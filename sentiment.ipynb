{
 "cells": [
  {
   "cell_type": "code",
   "execution_count": 17,
   "id": "initial_id",
   "metadata": {
    "collapsed": true,
    "ExecuteTime": {
     "end_time": "2024-05-20T11:17:47.522107900Z",
     "start_time": "2024-05-20T11:17:46.714581700Z"
    }
   },
   "outputs": [
    {
     "name": "stderr",
     "output_type": "stream",
     "text": [
      "No model was supplied, defaulted to distilbert/distilbert-base-uncased-finetuned-sst-2-english and revision af0f99b (https://huggingface.co/distilbert/distilbert-base-uncased-finetuned-sst-2-english).\n",
      "Using a pipeline without specifying a model name and revision in production is not recommended.\n",
      "D:\\PythonProjects\\Stock-deck\\.venv\\Lib\\site-packages\\huggingface_hub\\file_download.py:1132: FutureWarning: `resume_download` is deprecated and will be removed in version 1.0.0. Downloads always resume when possible. If you want to force a new download, use `force_download=True`.\n",
      "  warnings.warn(\n"
     ]
    },
    {
     "data": {
      "text/plain": "[{'label': 'NEGATIVE', 'score': 0.994644045829773},\n {'label': 'NEGATIVE', 'score': 0.9991129040718079}]"
     },
     "execution_count": 17,
     "metadata": {},
     "output_type": "execute_result"
    }
   ],
   "source": [
    "from transformers import pipeline\n",
    "\n",
    "sentiment_pipeline = pipeline(\"sentiment-analysis\")\n",
    "data = [\"Tesla earnings tanked by 3%\", \"I hate you\"]\n",
    "sentiment_pipeline(data)"
   ]
  },
  {
   "cell_type": "code",
   "outputs": [
    {
     "name": "stdout",
     "output_type": "stream",
     "text": [
      "[{'source': {'id': None, 'name': 'CNBCTV18'}, 'author': 'Asmita Pant', 'title': 'Indian drug makers recall products from the US market due to manufacturing issues - CNBCTV18', 'description': \"Dr Reddy's Laboratories is recalling nearly 20,000 cartons of a medication used to control blood phenylalanine levels in adults and children. Sun Pharma is recalling 11,016 vials of Amphotericin B Liposome for Injection, while Aurobindo Pharma is recalling 13…\", 'url': 'https://www.cnbctv18.com/business/companies/dr-reddys-laboratories-sun-pharma-aurobindo-pharma-recall-products-from-the-us-market-usfda-19414232.htm', 'urlToImage': 'https://images.cnbctv18.com/uploads/2023/12/pharma.jpeg?im=FitAndFill,width=500,height=300', 'publishedAt': '2024-05-19T07:00:59Z', 'content': \"Drug makers Dr Reddy's Laboratories, Sun Pharma, and Aurobindo Pharma are recalling products from the US market due to manufacturing issues, according to the latest Enforcement Report by the US Food … [+2678 chars]\"}, {'source': {'id': None, 'name': 'YouTube'}, 'author': None, 'title': \"India's BIG SUV Problem! - MotorOctane\", 'description': None, 'url': 'https://www.youtube.com/watch?v=DqD2LItogsE', 'urlToImage': None, 'publishedAt': '2024-05-19T06:45:02Z', 'content': 'Your browser isnt supported anymore. Update it to get the best YouTube experience and our latest features. Learn more'}, {'source': {'id': 'the-times-of-india', 'name': 'The Times of India'}, 'author': 'Navdeep Singh', 'title': 'Q4 results this week: ITC, ONGC, Sun Pharma, Nykaa, Ircon International and IRFC - The Economic Times', 'description': \"ITC, ONGC, IRFC, Ircon International, BHEL, BEL, Sun Pharma, Nykaa, Tata Investment Corporation, Hindalco, Ashok Leyland, and Divi's lab will be releasing their March quarter report cards this week.\", 'url': 'https://economictimes.indiatimes.com/markets/stocks/news/q4-results-this-week-itc-ongc-sun-pharma-nykaa-ircon-international-and-irfc/articleshow/110244356.cms', 'urlToImage': 'https://img.etimg.com/thumb/msid-110244423,width-1200,height-630,imgsize-23716,overlay-etmarkets/photo.jpg', 'publishedAt': '2024-05-19T05:53:57Z', 'content': \"Various widely tracked companies like ITC, ONGC, IRFC, Ircon International, BHEL, BEL, Sun Pharma, Nykaa, Tata Investment Corporation, Hindalco, Ashok Leyland, and Divi's lab will be releasing their … [+2590 chars]\"}, {'source': {'id': None, 'name': 'GaadiWaadi.com'}, 'author': 'Surendhar M', 'title': 'Mahindra Thar & Bolero Neo Prices Hiked In India - All Details - GaadiWaadi.com', 'description': 'The prices of the Mahindra Thar have been hiked by Rs. 10,000 on select variants while the Bolero Neo is dearer by up to Rs. 14,000', 'url': 'https://gaadiwaadi.com/mahindra-thar-bolero-neo-prices-hiked-in-india-all-details/', 'urlToImage': 'https://gaadiwaadi.com/wp-content/uploads/2023/01/2023-mahindra-thar-rearwheel-drive-2wd-3-1.jpg', 'publishedAt': '2024-05-19T05:30:49Z', 'content': 'Mahindra &amp; Mahindra has released the updated prices of the Bolero Neo and as expected it has become more expensive by up to Rs. 14,000. Following this price adjustment, the Bolero Neo now has a s… [+1705 chars]'}, {'source': {'id': None, 'name': 'Motoroctane.com'}, 'author': 'Nachiket Bhole', 'title': 'Want To Buy New Maruti Swift For Fun? Don’t! - MotorOctane', 'description': 'New Swift Power - Maruti launched the new Swift with the new Z-series engine which produces less power than before. But is it really slow?', 'url': 'https://motoroctane.com/news/273267-want-to-buy-new-maruti-swift-for-fun-dont', 'urlToImage': 'https://motoroctane.com/wp-content/uploads/2024/05/2-5.png', 'publishedAt': '2024-05-19T05:06:17Z', 'content': 'Maruti Swift facelift is the brands first launch of 2024. With the facelift, Maruti made subtle changes on the outside and a comprehensive change on the inside. Even the engine is all new and that is… [+2775 chars]'}, {'source': {'id': None, 'name': 'Livemint'}, 'author': 'Vaamanaa Sethi', 'title': 'Stocks to buy or sell: GAIL to Ashok Leyland — Sumeet Bagadia recommends three stocks for May 21 | Mint - Mint', 'description': 'Stocks to buy or sell: Sumeet Bagadia has recommended buying these these breakout stocks on May 21 — Hindalco, GAIL and Ashok Leyland', 'url': 'https://www.livemint.com/market/stock-market-news/stocks-to-buy-or-sell-gail-to-ashok-leyland-sumeet-bagadia-recommends-three-stocks-for-may-21-11716091700619.html', 'urlToImage': 'https://www.livemint.com/lm-img/img/2024/05/19/1600x900/Sumeet_Bagadia_1716094468412_1716094468551.jpg', 'publishedAt': '2024-05-19T04:58:07Z', 'content': \"Stocks to buy or sell: The Sensex and Nifty 50, key domestic equity benchmarks, concluded Saturday's trading session with upward momentum, extending their three-day rally. Fresh inflows of foreign in… [+8236 chars]\"}, {'source': {'id': None, 'name': 'Livemint'}, 'author': 'Vaamanaa Sethi', 'title': 'Upcoming IPOs: Two public issues, 8 new listings to keep primary market busy next week amid elections | Mint - Mint', 'description': 'Next week, Awfis Space Solutions, a leading provider of shared workspaces in India, is expected to launch its IPO, targeting to raise around  ₹599 crore.', 'url': 'https://www.livemint.com/market/ipo/upcoming-ipos-two-public-issues-8-new-listings-to-keep-primary-market-busy-next-week-amid-elections-11716088008119.html', 'urlToImage': 'https://www.livemint.com/lm-img/img/2024/05/19/1600x900/IPO_1716090729800_1716090729997.jpg', 'publishedAt': '2024-05-19T03:58:40Z', 'content': 'After a busy last week, the primary market is all set for a breather. Only two new initial public offerings (IPO) will open for subscription in the upcoming week amid ongoing general elections. In ad… [+5478 chars]'}, {'source': {'id': None, 'name': 'GaadiWaadi.com'}, 'author': 'Surendhar M', 'title': '5+ Upcoming 400-450 CC Bikes Launching Soon In India - GaadiWaadi.com', 'description': 'Bajaj Auto, RE, KTM and Triumph are set to introduce new 400 cc motorcycles in India. Here, we provide an overview of these upcoming models', 'url': 'https://gaadiwaadi.com/5-upcoming-400-450-cc-bikes-launching-soon-in-india/', 'urlToImage': 'https://gaadiwaadi.com/wp-content/uploads/2023/11/Triumph-Thruxton-400.jpg', 'publishedAt': '2024-05-19T03:56:15Z', 'content': 'Motorcycle manufacturers such as Bajaj Auto, KTM, Royal Enfield and Triumph are expected to launch new 400 cc motorcycles in the domestic market. Some of these models have already been spotted testin… [+2105 chars]'}, {'source': {'id': None, 'name': 'Livemint'}, 'author': 'Nikita Prasad', 'title': 'Week Ahead: US Fed chair speech, Q4 results, FII activity, global cues among key market triggers next week | Mint - Mint', 'description': 'Analysts expect the volatile tone to continue for Nifty 50 ahead of the election results. Experts advise traders to adjust their positions and maintain a ‘buy on dips’ strategy.', 'url': 'https://www.livemint.com/market/stock-market-news/week-ahead-us-fed-chair-speech-q4-results-fii-activity-global-cues-among-key-market-triggers-this-week-11716052446663.html', 'urlToImage': 'https://www.livemint.com/lm-img/img/2024/05/18/1600x900/unsplash_1716052470846_1716052471126.jpg', 'publishedAt': '2024-05-19T00:29:31Z', 'content': \"As the high-stakes' Lok Sabha election results approaches closer, the volatility in the stock market is weighing on investor's sentiments, both domestically and across borders. Foreign outflow from I… [+9634 chars]\"}, {'source': {'id': None, 'name': 'Livemint'}, 'author': 'Livemint', 'title': 'NHPC Q4 Results Live : profit falls by 18.18% YOY | Mint - Mint', 'description': 'NHPC Q4 Results Live : Revenue decreased by 6.93% YoY & profit decreased by 18.18% YoY', 'url': 'https://www.livemint.com/companies/company-results/nhpc-q4-results-live-profit-falls-by-18-18-yoy-11716073063037.html', 'urlToImage': 'https://www.livemint.com/lm-img/img/2023/05/04/1600x900/The-Bombay-Stock-Exchange-in-Mumbai---Bloomberg-Ph_1683200468247_1683200494396.jpg', 'publishedAt': '2024-05-18T22:57:42Z', 'content': 'NHPC Q4 Results Live : NHPC announced their Q4 results on 17 May, 2024, showcasing a decrease in revenue by 6.93% and a decline in profit by 18.18% YoY. In comparison to the previous quarter, the com… [+2522 chars]'}, {'source': {'id': 'the-times-of-india', 'name': 'The Times of India'}, 'author': 'TNN', 'title': 'N Vaghul, banker who built ICICI brand, dies at 88 - The Times of India', 'description': \"India Business News: N Vaghul, a banking industry pioneer, passed away at 88 in Apollo hospital. He redefined ICICI, India's second-largest bank, and earned the Padma Bhus\", 'url': 'https://timesofindia.indiatimes.com/business/india-business/n-vaghul-banker-who-built-icici-brand-dies-at-88/articleshow/110238867.cms', 'urlToImage': 'https://static.toiimg.com/thumb/msid-110238885,width-1070,height-580,imgsize-22966,resizemode-75,overlay-toi_sw,pt-32,y_pad-40/photo.jpg', 'publishedAt': '2024-05-18T21:02:00Z', 'content': 'FD Calculator\\r\\nWhen investing in a fixed deposit, the amount you deposit earns interest as per the prevailing...\\r\\nCalculate Now'}, {'source': {'id': 'the-times-of-india', 'name': 'The Times of India'}, 'author': 'TNN', 'title': 'CEA: Are futures & options trading volumes sign of progress or worry? - The Times of India', 'description': 'India Business News: A finance ministry official raised concerns about the impact of futures and options trading volumes on capital market growth and household savings. Th', 'url': 'https://timesofindia.indiatimes.com/business/india-business/cea-are-futures-options-trading-volumes-sign-of-progress-or-worry/articleshow/110238672.cms', 'urlToImage': 'https://static.toiimg.com/thumb/msid-110238676,width-1070,height-580,imgsize-16280,resizemode-75,overlay-toi_sw,pt-32,y_pad-40/photo.jpg', 'publishedAt': '2024-05-18T20:07:00Z', 'content': 'FD Calculator\\r\\nWhen investing in a fixed deposit, the amount you deposit earns interest as per the prevailing...\\r\\nCalculate Now'}, {'source': {'id': None, 'name': 'The Indian Express'}, 'author': 'The Indian Express', 'title': '‘Ice cream man of India’ Raghunandan Kamath dies at 70 - The Indian Express', 'description': None, 'url': 'https://indianexpress.com/article/india/raghunandan-kamath-naturals-icecream-mangaluru-dies-9337748/', 'urlToImage': None, 'publishedAt': '2024-05-18T17:48:31Z', 'content': None}, {'source': {'id': None, 'name': 'Livemint'}, 'author': 'Saurav Mukherjee', 'title': 'Ordering dessert? Zomato may ask you to rethink your choice; CEO Deepinder Goyal launches new feature | Mint - Mint', 'description': 'The new feature has already garnered a 7 per cent attachment rate, and according to Deepinder Goyal users are responding positively.', 'url': 'https://www.livemint.com/companies/news/ordering-dessert-zomato-may-ask-you-to-rethink-your-choice-ceo-deepinder-goyal-launches-new-feature-11716046408030.html', 'urlToImage': 'https://www.livemint.com/lm-img/img/2024/05/18/1600x900/Deepinder_Goyal_1716046654917_1716046655080.jpg', 'publishedAt': '2024-05-18T15:49:36Z', 'content': \"Aiming to help customers make smarter and healthier food choices, Zomato's CEO Deepinder Goyal has announced a new feature that will suggest healthier alternatives when placing orders, such as roti i… [+2141 chars]\"}, {'source': {'id': None, 'name': 'Moneycontrol'}, 'author': 'Sunil Shankar Matkar', 'title': 'Trading Plan: Will the trend likely remain bullish in Nifty, Bank Nifty going ahead? - Moneycontrol', 'description': 'The trend for Bank Nifty is likely to remain bullish, with the next resistance expected at 48,500-49,000 levels.', 'url': 'https://www.moneycontrol.com/news/business/markets/trading-plan-will-the-trend-likely-remain-bullish-in-nifty-bank-nifty-going-ahead-12726150.html', 'urlToImage': 'https://images.moneycontrol.com/static-mcnews/2024/01/sensex_nifty1.jpg', 'publishedAt': '2024-05-18T15:47:15Z', 'content': 'Bulls retained their power over Dalal Street, with benchmark indices ending the special trading session higher on May 18 despite rising volatility, and continuing their upward journey for three days … [+7069 chars]'}, {'source': {'id': None, 'name': 'Livemint'}, 'author': 'Livemint', 'title': \"Reader's Digest shuts down ops in UK after 86 years: 'Just couldn’t withstand financial pressures of...' | Mint - Mint\", 'description': \"Reader's Digest UK closes after 86 years citing financial challenges. Editor-in-Chief Eva Mackevic thanked colleagues and reassured writers about pending payments.\", 'url': 'https://www.livemint.com/news/trends/readers-digest-shuts-down-ops-in-uk-after-86-years-just-couldn-t-withstand-financial-pressures-of-11716041759471.html', 'urlToImage': 'https://www.livemint.com/lm-img/img/2024/05/18/1600x900/425504924_491561753386233_7896390505376850054_n_1716042609537_1716042623555.jpg', 'publishedAt': '2024-05-18T14:49:22Z', 'content': \"Reader's Digest, widely read and respected, has announced that it is shutting down its United Kingdom edition after 86 years. The magazine's Editor-in-Chief, Eva Mackevic, recently made the announcem… [+2173 chars]\"}, {'source': {'id': 'the-times-of-india', 'name': 'The Times of India'}, 'author': 'Deeksha Somani', 'title': \"Google CEO Sundar Pichai's advice to Indian software engineers in the age of AI - The Times of India\", 'description': \"TECH NEWS : Sundar Pichai, CEO of Alphabet, Inc., discussed the transformative potential of AI in India, emphasizing India's strategic position in the global AI l\", 'url': 'https://timesofindia.indiatimes.com/technology/tech-news/google-ceo-sundar-pichais-advice-to-indian-software-engineers-in-the-age-of-ai/articleshow/110235243.cms', 'urlToImage': 'https://static.toiimg.com/thumb/msid-110235246,width-1070,height-580,imgsize-17670,resizemode-75,overlay-toi_sw,pt-32,y_pad-40/photo.jpg', 'publishedAt': '2024-05-18T14:13:00Z', 'content': \"Sundar Pichai, CEO of Alphabet, Inc., discussed the transformative potential of AI in India, emphasizing India's strategic position in the global AI landscape. He highlighted the focus of tech giants… [+1699 chars]\"}, {'source': {'id': None, 'name': 'Livemint'}, 'author': 'Nikita Prasad', 'title': \"FPIs offload ₹28,242 crore in Indian equities, continue selling streak since April: What's fueling the outflow? | Mint - Mint\", 'description': 'FPIs offloaded  ₹28,242 crore worth of Indian equities and the total outflow stands at  ₹27,082 crore as of May 17, taking into account debt, hybrid, debt-VRR, and equities', 'url': 'https://www.livemint.com/market/stock-market-news/fpis-offload-rs-28-242-crore-in-indian-equities-continue-selling-streak-since-april-whats-fueling-the-outflow-11716038323417.html', 'urlToImage': 'https://www.livemint.com/lm-img/img/2024/05/18/1600x900/FPIs_1716038339515.jpg', 'publishedAt': '2024-05-18T13:24:05Z', 'content': 'Foreign portfolio investors (FPIs) have turned aggressive sellers in Indian markets ever since reducing their buying momentum with the onset of the new fiscal 2024-25 (FY25). Volatility due to electi… [+8101 chars]'}, {'source': {'id': None, 'name': 'Etnownews.com'}, 'author': 'Rishabh Raj', 'title': \"'MUST have in your portfolio... we have too...' Ace investor Sanjiv Bhasin shares THREE stocks - ET Now\", 'description': 'Sanjiv Bhasin Stock Portfolio, Tips: Ace investor Sanjiv Bhasin has shares three stocks that every investor must have in their portfolios. \"If you have owned them, you have already been making money,\" he said. He also shared a few pieces of advice for investo…', 'url': 'https://www.etnownews.com/markets/must-have-in-your-portfolio-we-have-too-ace-investor-sanjiv-bhasin-shares-three-stocks-article-110231827', 'urlToImage': 'https://etstatic.tnn.in/thumb/msid-110231827,width-1280,height-720,resizemode-75/110231827.jpg', 'publishedAt': '2024-05-18T12:44:33Z', 'content': 'Sanjiv Bhasin Stock Portfolio, Tips: According to Bhasin, the market has reached an equilibrium and its should stay stable till the election results are out. (Image: IIFL Finance/iStock/ET NOW News)'}, {'source': {'id': None, 'name': 'Tradebrains.in'}, 'author': 'Trade Brains', 'title': 'Stocks to Watch: 5 Stocks that will trade ex-dividend next week - Trade Brains', 'description': \"Dividends represent a portion of a company's profits distributed to its shareholders as a reward for their investment.\", 'url': 'https://tradebrains.in/features/stocks-to-watch-5-stocks-that-will-trade-ex-dividend-next-week-3/', 'urlToImage': 'https://tradebrains.in/features/wp-content/uploads/2024/02/MARKET0020.jpg', 'publishedAt': '2024-05-18T12:30:00Z', 'content': 'Dividends represent a portion of a company’s profits distributed to its shareholders as a reward for their investment. These regular payments provide investors with a steady income stream and signal … [+4133 chars]'}]\n"
     ]
    }
   ],
   "source": [
    "import requests\n",
    "\n",
    "url = ('https://newsapi.org/v2/top-headlines?country=in&category=business&apiKey=5f52da7203904a0cae3a2282b2b861af')\n",
    "\n",
    "response = requests.get(url)\n",
    "news=response.json()\n",
    "articles=news.get('articles')\n",
    "print(articles)"
   ],
   "metadata": {
    "collapsed": false,
    "ExecuteTime": {
     "end_time": "2024-05-20T11:17:48.187366500Z",
     "start_time": "2024-05-20T11:17:47.517590900Z"
    }
   },
   "id": "8c9048885f8c9de9",
   "execution_count": 18
  },
  {
   "cell_type": "code",
   "outputs": [
    {
     "name": "stdout",
     "output_type": "stream",
     "text": [
      "['Indian drug makers recall products from the US market due to manufacturing issues - CNBCTV18', \"India's BIG SUV Problem! - MotorOctane\", 'Q4 results this week: ITC, ONGC, Sun Pharma, Nykaa, Ircon International and IRFC - The Economic Times', 'Mahindra Thar & Bolero Neo Prices Hiked In India - All Details - GaadiWaadi.com', 'Want To Buy New Maruti Swift For Fun? Don’t! - MotorOctane', 'Stocks to buy or sell: GAIL to Ashok Leyland — Sumeet Bagadia recommends three stocks for May 21 | Mint - Mint', 'Upcoming IPOs: Two public issues, 8 new listings to keep primary market busy next week amid elections | Mint - Mint', '5+ Upcoming 400-450 CC Bikes Launching Soon In India - GaadiWaadi.com', 'Week Ahead: US Fed chair speech, Q4 results, FII activity, global cues among key market triggers next week | Mint - Mint', 'NHPC Q4 Results Live : profit falls by 18.18% YOY | Mint - Mint', 'N Vaghul, banker who built ICICI brand, dies at 88 - The Times of India', 'CEA: Are futures & options trading volumes sign of progress or worry? - The Times of India', '‘Ice cream man of India’ Raghunandan Kamath dies at 70 - The Indian Express', 'Ordering dessert? Zomato may ask you to rethink your choice; CEO Deepinder Goyal launches new feature | Mint - Mint', 'Trading Plan: Will the trend likely remain bullish in Nifty, Bank Nifty going ahead? - Moneycontrol', \"Reader's Digest shuts down ops in UK after 86 years: 'Just couldn’t withstand financial pressures of...' | Mint - Mint\", \"Google CEO Sundar Pichai's advice to Indian software engineers in the age of AI - The Times of India\", \"FPIs offload ₹28,242 crore in Indian equities, continue selling streak since April: What's fueling the outflow? | Mint - Mint\", \"'MUST have in your portfolio... we have too...' Ace investor Sanjiv Bhasin shares THREE stocks - ET Now\", 'Stocks to Watch: 5 Stocks that will trade ex-dividend next week - Trade Brains'] [\"Dr Reddy's Laboratories is recalling nearly 20,000 cartons of a medication used to control blood phenylalanine levels in adults and children. Sun Pharma is recalling 11,016 vials of Amphotericin B Liposome for Injection, while Aurobindo Pharma is recalling 13…\", None, \"ITC, ONGC, IRFC, Ircon International, BHEL, BEL, Sun Pharma, Nykaa, Tata Investment Corporation, Hindalco, Ashok Leyland, and Divi's lab will be releasing their March quarter report cards this week.\", 'The prices of the Mahindra Thar have been hiked by Rs. 10,000 on select variants while the Bolero Neo is dearer by up to Rs. 14,000', 'New Swift Power - Maruti launched the new Swift with the new Z-series engine which produces less power than before. But is it really slow?', 'Stocks to buy or sell: Sumeet Bagadia has recommended buying these these breakout stocks on May 21 — Hindalco, GAIL and Ashok Leyland', 'Next week, Awfis Space Solutions, a leading provider of shared workspaces in India, is expected to launch its IPO, targeting to raise around  ₹599 crore.', 'Bajaj Auto, RE, KTM and Triumph are set to introduce new 400 cc motorcycles in India. Here, we provide an overview of these upcoming models', 'Analysts expect the volatile tone to continue for Nifty 50 ahead of the election results. Experts advise traders to adjust their positions and maintain a ‘buy on dips’ strategy.', 'NHPC Q4 Results Live : Revenue decreased by 6.93% YoY & profit decreased by 18.18% YoY', \"India Business News: N Vaghul, a banking industry pioneer, passed away at 88 in Apollo hospital. He redefined ICICI, India's second-largest bank, and earned the Padma Bhus\", 'India Business News: A finance ministry official raised concerns about the impact of futures and options trading volumes on capital market growth and household savings. Th', None, 'The new feature has already garnered a 7 per cent attachment rate, and according to Deepinder Goyal users are responding positively.', 'The trend for Bank Nifty is likely to remain bullish, with the next resistance expected at 48,500-49,000 levels.', \"Reader's Digest UK closes after 86 years citing financial challenges. Editor-in-Chief Eva Mackevic thanked colleagues and reassured writers about pending payments.\", \"TECH NEWS : Sundar Pichai, CEO of Alphabet, Inc., discussed the transformative potential of AI in India, emphasizing India's strategic position in the global AI l\", 'FPIs offloaded  ₹28,242 crore worth of Indian equities and the total outflow stands at  ₹27,082 crore as of May 17, taking into account debt, hybrid, debt-VRR, and equities', 'Sanjiv Bhasin Stock Portfolio, Tips: Ace investor Sanjiv Bhasin has shares three stocks that every investor must have in their portfolios. \"If you have owned them, you have already been making money,\" he said. He also shared a few pieces of advice for investo…', \"Dividends represent a portion of a company's profits distributed to its shareholders as a reward for their investment.\"]\n"
     ]
    }
   ],
   "source": [
    "titles,descriptions=[],[]\n",
    "for article in articles:\n",
    "    title = article.get('title')\n",
    "    description = article.get('description')\n",
    "    \n",
    "    titles.append(title)\n",
    "    descriptions.append(description)\n",
    "\n",
    "print(titles,descriptions)\n"
   ],
   "metadata": {
    "collapsed": false,
    "ExecuteTime": {
     "end_time": "2024-05-20T11:17:48.194037800Z",
     "start_time": "2024-05-20T11:17:48.185740300Z"
    }
   },
   "id": "5d16907792c7e612",
   "execution_count": 19
  },
  {
   "cell_type": "code",
   "outputs": [
    {
     "name": "stdout",
     "output_type": "stream",
     "text": [
      "20\n"
     ]
    }
   ],
   "source": [
    "print(len(descriptions))"
   ],
   "metadata": {
    "collapsed": false,
    "ExecuteTime": {
     "end_time": "2024-05-20T11:17:48.233359100Z",
     "start_time": "2024-05-20T11:17:48.191913700Z"
    }
   },
   "id": "2f0ad35b9cedd249",
   "execution_count": 20
  },
  {
   "cell_type": "code",
   "outputs": [
    {
     "name": "stdout",
     "output_type": "stream",
     "text": [
      "[{'label': 'NEGATIVE', 'score': 0.9508907794952393}]\n",
      "[{'label': 'POSITIVE', 'score': 0.9084182977676392}]\n",
      "[{'label': 'NEGATIVE', 'score': 0.9934960603713989}]\n",
      "[{'label': 'NEGATIVE', 'score': 0.9990441203117371}]\n",
      "[{'label': 'POSITIVE', 'score': 0.9904170036315918}]\n",
      "[{'label': 'POSITIVE', 'score': 0.9418454766273499}]\n",
      "[{'label': 'POSITIVE', 'score': 0.9996621608734131}]\n",
      "[{'label': 'NEGATIVE', 'score': 0.9787386059761047}]\n",
      "[{'label': 'NEGATIVE', 'score': 0.9983830451965332}]\n",
      "[{'label': 'POSITIVE', 'score': 0.9667259454727173}]\n",
      "[{'label': 'POSITIVE', 'score': 0.9872433543205261}]\n",
      "[{'label': 'POSITIVE', 'score': 0.9967195391654968}]\n",
      "[{'label': 'NEGATIVE', 'score': 0.9996508359909058}]\n",
      "[{'label': 'NEGATIVE', 'score': 0.981694757938385}]\n",
      "[{'label': 'POSITIVE', 'score': 0.9992696642875671}]\n",
      "[{'label': 'NEGATIVE', 'score': 0.9869790077209473}]\n",
      "[{'label': 'NEGATIVE', 'score': 0.9630963802337646}]\n",
      "[{'label': 'POSITIVE', 'score': 0.9720184803009033}]\n"
     ]
    }
   ],
   "source": [
    "desc_sentiment=[]\n",
    "for i in range(len(descriptions)):\n",
    "    try:\n",
    "        data= (descriptions[i])\n",
    "        sentiment = sentiment_pipeline(data)\n",
    "        print(sentiment)\n",
    "        desc_sentiment.append(sentiment)\n",
    "    except Exception as e:\n",
    "        continue"
   ],
   "metadata": {
    "collapsed": false,
    "ExecuteTime": {
     "end_time": "2024-05-20T11:17:48.700156800Z",
     "start_time": "2024-05-20T11:17:48.209361200Z"
    }
   },
   "id": "bc2d078d90fa1cf2",
   "execution_count": 21
  },
  {
   "cell_type": "code",
   "outputs": [
    {
     "name": "stdout",
     "output_type": "stream",
     "text": [
      "[{'label': 'NEGATIVE', 'score': 0.9986029267311096}]\n",
      "[{'label': 'NEGATIVE', 'score': 0.9995577931404114}]\n",
      "[{'label': 'POSITIVE', 'score': 0.9715904593467712}]\n",
      "[{'label': 'NEGATIVE', 'score': 0.9397744536399841}]\n",
      "[{'label': 'NEGATIVE', 'score': 0.9983258843421936}]\n",
      "[{'label': 'NEGATIVE', 'score': 0.9064367413520813}]\n",
      "[{'label': 'NEGATIVE', 'score': 0.987667977809906}]\n",
      "[{'label': 'POSITIVE', 'score': 0.9956170320510864}]\n",
      "[{'label': 'POSITIVE', 'score': 0.8533188104629517}]\n",
      "[{'label': 'NEGATIVE', 'score': 0.994848370552063}]\n",
      "[{'label': 'NEGATIVE', 'score': 0.98179030418396}]\n",
      "[{'label': 'NEGATIVE', 'score': 0.9970523118972778}]\n",
      "[{'label': 'NEGATIVE', 'score': 0.9985920786857605}]\n",
      "[{'label': 'POSITIVE', 'score': 0.5798628330230713}]\n",
      "[{'label': 'NEGATIVE', 'score': 0.9987210631370544}]\n",
      "[{'label': 'NEGATIVE', 'score': 0.9995031356811523}]\n",
      "[{'label': 'POSITIVE', 'score': 0.9960852861404419}]\n",
      "[{'label': 'NEGATIVE', 'score': 0.838477611541748}]\n",
      "[{'label': 'NEGATIVE', 'score': 0.9710200428962708}]\n",
      "[{'label': 'NEGATIVE', 'score': 0.9741058349609375}]\n"
     ]
    }
   ],
   "source": [
    "title_sentiment=[]\n",
    "for i in range(len(titles)):\n",
    "    try:\n",
    "        data= (titles[i])\n",
    "        sentiment = sentiment_pipeline(data)\n",
    "        print(sentiment)\n",
    "        title_sentiment.append(sentiment)\n",
    "    except Exception as e:\n",
    "        continue"
   ],
   "metadata": {
    "collapsed": false,
    "ExecuteTime": {
     "end_time": "2024-05-20T11:17:49.118790200Z",
     "start_time": "2024-05-20T11:17:48.695344300Z"
    }
   },
   "id": "cc886d1533238f82",
   "execution_count": 22
  },
  {
   "cell_type": "code",
   "outputs": [
    {
     "name": "stdout",
     "output_type": "stream",
     "text": [
      "[[{'label': 'NEGATIVE', 'score': 0.9986029267311096}], [{'label': 'NEGATIVE', 'score': 0.9995577931404114}], [{'label': 'POSITIVE', 'score': 0.9715904593467712}], [{'label': 'NEGATIVE', 'score': 0.9397744536399841}], [{'label': 'NEGATIVE', 'score': 0.9983258843421936}], [{'label': 'NEGATIVE', 'score': 0.9064367413520813}], [{'label': 'NEGATIVE', 'score': 0.987667977809906}], [{'label': 'POSITIVE', 'score': 0.9956170320510864}], [{'label': 'POSITIVE', 'score': 0.8533188104629517}], [{'label': 'NEGATIVE', 'score': 0.994848370552063}], [{'label': 'NEGATIVE', 'score': 0.98179030418396}], [{'label': 'NEGATIVE', 'score': 0.9970523118972778}], [{'label': 'NEGATIVE', 'score': 0.9985920786857605}], [{'label': 'POSITIVE', 'score': 0.5798628330230713}], [{'label': 'NEGATIVE', 'score': 0.9987210631370544}], [{'label': 'NEGATIVE', 'score': 0.9995031356811523}], [{'label': 'POSITIVE', 'score': 0.9960852861404419}], [{'label': 'NEGATIVE', 'score': 0.838477611541748}], [{'label': 'NEGATIVE', 'score': 0.9710200428962708}], [{'label': 'NEGATIVE', 'score': 0.9741058349609375}]]\n"
     ]
    }
   ],
   "source": [
    "print(title_sentiment)\n",
    "label,score=[],[]\n",
    "for k in title_sentiment:\n",
    "    l=k[0].get('label')\n",
    "    label.append(l)\n",
    "    s=k[0].get('score')\n",
    "    score.append(s)"
   ],
   "metadata": {
    "collapsed": false,
    "ExecuteTime": {
     "end_time": "2024-05-20T11:17:49.119802700Z",
     "start_time": "2024-05-20T11:17:49.114087100Z"
    }
   },
   "id": "f696809a38ed48f5",
   "execution_count": 23
  },
  {
   "cell_type": "code",
   "outputs": [
    {
     "data": {
      "text/plain": "(['NEGATIVE',\n  'NEGATIVE',\n  'POSITIVE',\n  'NEGATIVE',\n  'NEGATIVE',\n  'NEGATIVE',\n  'NEGATIVE',\n  'POSITIVE',\n  'POSITIVE',\n  'NEGATIVE',\n  'NEGATIVE',\n  'NEGATIVE',\n  'NEGATIVE',\n  'POSITIVE',\n  'NEGATIVE',\n  'NEGATIVE',\n  'POSITIVE',\n  'NEGATIVE',\n  'NEGATIVE',\n  'NEGATIVE'],\n [0.9986029267311096,\n  0.9995577931404114,\n  0.9715904593467712,\n  0.9397744536399841,\n  0.9983258843421936,\n  0.9064367413520813,\n  0.987667977809906,\n  0.9956170320510864,\n  0.8533188104629517,\n  0.994848370552063,\n  0.98179030418396,\n  0.9970523118972778,\n  0.9985920786857605,\n  0.5798628330230713,\n  0.9987210631370544,\n  0.9995031356811523,\n  0.9960852861404419,\n  0.838477611541748,\n  0.9710200428962708,\n  0.9741058349609375])"
     },
     "execution_count": 24,
     "metadata": {},
     "output_type": "execute_result"
    }
   ],
   "source": [
    "label,score"
   ],
   "metadata": {
    "collapsed": false,
    "ExecuteTime": {
     "end_time": "2024-05-20T11:17:49.154123400Z",
     "start_time": "2024-05-20T11:17:49.119802700Z"
    }
   },
   "id": "71fd42ca2f37eeb7",
   "execution_count": 24
  },
  {
   "cell_type": "code",
   "outputs": [],
   "source": [
    "net=0\n",
    "for i in range(len(label)):\n",
    "    \n",
    "    if label[i]=='NEGATIVE':\n",
    "        net = net+ (-1*score[i])\n",
    "    if label[i]=='POSITIVE':\n",
    "        net = net+ (+1*score[i])"
   ],
   "metadata": {
    "collapsed": false,
    "ExecuteTime": {
     "end_time": "2024-05-20T11:17:49.155132400Z",
     "start_time": "2024-05-20T11:17:49.137842500Z"
    }
   },
   "id": "ba3bde5de25e0d57",
   "execution_count": 25
  },
  {
   "cell_type": "code",
   "outputs": [
    {
     "data": {
      "text/plain": "-10.188002109527588"
     },
     "execution_count": 26,
     "metadata": {},
     "output_type": "execute_result"
    }
   ],
   "source": [
    "net"
   ],
   "metadata": {
    "collapsed": false,
    "ExecuteTime": {
     "end_time": "2024-05-20T11:17:49.156379800Z",
     "start_time": "2024-05-20T11:17:49.146168500Z"
    }
   },
   "id": "f9f1fdcf9ab1353e",
   "execution_count": 26
  },
  {
   "cell_type": "code",
   "outputs": [],
   "source": [
    "label,score=[],[]\n",
    "for k in desc_sentiment:\n",
    "    l=k[0].get('label')\n",
    "    label.append(l)\n",
    "    s=k[0].get('score')\n",
    "    score.append(s)"
   ],
   "metadata": {
    "collapsed": false,
    "ExecuteTime": {
     "end_time": "2024-05-20T11:17:49.169419700Z",
     "start_time": "2024-05-20T11:17:49.153122300Z"
    }
   },
   "id": "ab4b5559dc94a624",
   "execution_count": 27
  },
  {
   "cell_type": "code",
   "outputs": [
    {
     "data": {
      "text/plain": "(['NEGATIVE',\n  'POSITIVE',\n  'NEGATIVE',\n  'NEGATIVE',\n  'POSITIVE',\n  'POSITIVE',\n  'POSITIVE',\n  'NEGATIVE',\n  'NEGATIVE',\n  'POSITIVE',\n  'POSITIVE',\n  'POSITIVE',\n  'NEGATIVE',\n  'NEGATIVE',\n  'POSITIVE',\n  'NEGATIVE',\n  'NEGATIVE',\n  'POSITIVE'],\n [0.9508907794952393,\n  0.9084182977676392,\n  0.9934960603713989,\n  0.9990441203117371,\n  0.9904170036315918,\n  0.9418454766273499,\n  0.9996621608734131,\n  0.9787386059761047,\n  0.9983830451965332,\n  0.9667259454727173,\n  0.9872433543205261,\n  0.9967195391654968,\n  0.9996508359909058,\n  0.981694757938385,\n  0.9992696642875671,\n  0.9869790077209473,\n  0.9630963802337646,\n  0.9720184803009033])"
     },
     "execution_count": 28,
     "metadata": {},
     "output_type": "execute_result"
    }
   ],
   "source": [
    "label,score"
   ],
   "metadata": {
    "collapsed": false,
    "ExecuteTime": {
     "end_time": "2024-05-20T11:17:49.170423Z",
     "start_time": "2024-05-20T11:17:49.159890300Z"
    }
   },
   "id": "f0cc167ebd969060",
   "execution_count": 28
  },
  {
   "cell_type": "code",
   "outputs": [],
   "source": [
    "net=0\n",
    "for i in range(len(label)):\n",
    "    \n",
    "    if label[i]=='NEGATIVE':\n",
    "        net = net+ (-1*score[i])\n",
    "    if label[i]=='POSITIVE':\n",
    "        net = net+ (+1*score[i])"
   ],
   "metadata": {
    "collapsed": false,
    "ExecuteTime": {
     "end_time": "2024-05-20T11:17:49.219285Z",
     "start_time": "2024-05-20T11:17:49.167421900Z"
    }
   },
   "id": "34845f336c041271",
   "execution_count": 29
  },
  {
   "cell_type": "code",
   "outputs": [
    {
     "data": {
      "text/plain": "-0.08965367078781128"
     },
     "execution_count": 30,
     "metadata": {},
     "output_type": "execute_result"
    }
   ],
   "source": [
    "net"
   ],
   "metadata": {
    "collapsed": false,
    "ExecuteTime": {
     "end_time": "2024-05-20T11:17:49.221288300Z",
     "start_time": "2024-05-20T11:17:49.174361200Z"
    }
   },
   "id": "787d2e7ed8795653",
   "execution_count": 30
  },
  {
   "cell_type": "code",
   "outputs": [],
   "source": [],
   "metadata": {
    "collapsed": false,
    "ExecuteTime": {
     "end_time": "2024-05-20T11:17:49.221288300Z",
     "start_time": "2024-05-20T11:17:49.183348800Z"
    }
   },
   "id": "a7f77cd733a9d328",
   "execution_count": 30
  }
 ],
 "metadata": {
  "kernelspec": {
   "display_name": "Python 3",
   "language": "python",
   "name": "python3"
  },
  "language_info": {
   "codemirror_mode": {
    "name": "ipython",
    "version": 2
   },
   "file_extension": ".py",
   "mimetype": "text/x-python",
   "name": "python",
   "nbconvert_exporter": "python",
   "pygments_lexer": "ipython2",
   "version": "2.7.6"
  }
 },
 "nbformat": 4,
 "nbformat_minor": 5
}
