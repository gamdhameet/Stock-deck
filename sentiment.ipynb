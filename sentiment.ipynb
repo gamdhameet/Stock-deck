{
 "cells": [
  {
   "cell_type": "code",
   "execution_count": 33,
   "id": "initial_id",
   "metadata": {
    "collapsed": true,
    "ExecuteTime": {
     "end_time": "2024-05-20T11:55:38.875725Z",
     "start_time": "2024-05-20T11:55:37.924346Z"
    }
   },
   "outputs": [
    {
     "name": "stderr",
     "output_type": "stream",
     "text": [
      "No model was supplied, defaulted to distilbert/distilbert-base-uncased-finetuned-sst-2-english and revision af0f99b (https://huggingface.co/distilbert/distilbert-base-uncased-finetuned-sst-2-english).\n",
      "Using a pipeline without specifying a model name and revision in production is not recommended.\n"
     ]
    },
    {
     "data": {
      "text/plain": "[{'label': 'NEGATIVE', 'score': 0.994644045829773},\n {'label': 'NEGATIVE', 'score': 0.9991129040718079}]"
     },
     "execution_count": 33,
     "metadata": {},
     "output_type": "execute_result"
    }
   ],
   "source": [
    "from transformers import pipeline\n",
    "\n",
    "sentiment_pipeline = pipeline(\"sentiment-analysis\")\n",
    "data = [\"Tesla earnings tanked by 3%\", \"I hate you\"]\n",
    "sentiment_pipeline(data)"
   ]
  },
  {
   "cell_type": "code",
   "outputs": [
    {
     "name": "stdout",
     "output_type": "stream",
     "text": [
      "[{'source': {'id': None, 'name': 'Moneycontrol'}, 'author': 'Sunil Shankar Matkar', 'title': 'Dalal Street Week Ahead: Lok Sabha Elections, FOMC Minutes, Earnings, FIIs mood among 10 key factors to... - Moneycontrol', 'description': 'The market, in the coming truncated week, is expected to be consolidative with a positive bias.', 'url': 'https://www.moneycontrol.com/news/business/markets/dalal-street-week-ahead-lok-sabha-elections-fomc-minutes-earnings-fiis-mood-among-10-key-factors-to-watch-12726351.html', 'urlToImage': 'https://images.moneycontrol.com/static-mcnews/2022/04/File-photo-of-BSE-building-at-Dalal-Street-Mumbai-via-Wikimedia-Commons.jpg', 'publishedAt': '2024-05-19T08:59:13Z', 'content': 'The market showed a drastic recovery from recent lows in the extended week ended May 18 with the benchmark index rising a couple of percentage points despite sharply increasing volatility on the othe… [+8377 chars]'}, {'source': {'id': None, 'name': 'Livemint'}, 'author': 'Puja Das', 'title': 'India may export 14,000 tonnes of non-basmati rice to Mauritius and 7,500 tonnes of onions to Qatar | Mint - Mint', 'description': 'The export of rice comes against the backdrop of an export ban since last July, with $550 per tonne minimum export price (MEP) and 40% export duty on onions.', 'url': 'https://www.livemint.com/news/india-export-ban-non-basmati-rice-export-onions-exports-11716099464037.html', 'urlToImage': 'https://www.livemint.com/lm-img/img/2024/05/19/1600x900/PTI16-09-2020_000088B_1600274124737_1716102320096.jpg', 'publishedAt': '2024-05-19T08:34:09Z', 'content': 'India is planning to export 14,000 tonnes of non-basmati rice to Mauritius, and 7,500 tonnes of onions to Qatar through National Cooperative Exports Ltd. (NCEL), after the ministry of external affair… [+4126 chars]'}, {'source': {'id': None, 'name': 'Moneycontrol'}, 'author': 'PTI', 'title': 'FPIs withdraw Rs 28,200 cr from Indian equities on poll jitters, attractive Chinese mkt valuations - Moneycontrol', 'description': 'According to data from depositories, foreign portfolio investors experienced a net outflow of Rs 28,242 crore in equities this month (till May 17).', 'url': 'https://www.moneycontrol.com/news/business/markets/fpis-withdraw-rs-28200-cr-from-indian-equities-on-poll-jitters-attractive-chinese-mkt-valuations-12726317.html', 'urlToImage': 'https://images.moneycontrol.com/static-mcnews/2024/04/Business-leaders-discuss-financial-performance.jpg', 'publishedAt': '2024-05-19T07:54:53Z', 'content': 'Foreign investors have withdrawn a massive Rs 28,200 crore from Indian equities so far this month, citing uncertainties about the outcome of the general elections and attractive valuations of Chinese… [+2441 chars]'}, {'source': {'id': None, 'name': 'CNBCTV18'}, 'author': 'Asmita Pant', 'title': 'Indian drug makers recall products from the US market due to manufacturing issues - CNBCTV18', 'description': \"Dr Reddy's Laboratories is recalling nearly 20,000 cartons of a medication used to control blood phenylalanine levels in adults and children. Sun Pharma is recalling 11,016 vials of Amphotericin B Liposome for Injection, while Aurobindo Pharma is recalling 13…\", 'url': 'https://www.cnbctv18.com/business/companies/dr-reddys-laboratories-sun-pharma-aurobindo-pharma-recall-products-from-the-us-market-usfda-19414232.htm', 'urlToImage': 'https://images.cnbctv18.com/uploads/2023/12/pharma.jpeg?im=FitAndFill,width=500,height=300', 'publishedAt': '2024-05-19T07:00:59Z', 'content': \"Drug makers Dr Reddy's Laboratories, Sun Pharma, and Aurobindo Pharma are recalling products from the US market due to manufacturing issues, according to the latest Enforcement Report by the US Food … [+2678 chars]\"}, {'source': {'id': None, 'name': 'YouTube'}, 'author': None, 'title': \"India's BIG SUV Problem! - MotorOctane\", 'description': 'In this video, we discuss how a sedan market like India turned into a majorly SUV dominant market. Is the sedan-hatchback market going to disappear? Will SUV...', 'url': 'https://www.youtube.com/watch?v=DqD2LItogsE', 'urlToImage': 'https://i.ytimg.com/vi/DqD2LItogsE/maxresdefault.jpg', 'publishedAt': '2024-05-19T06:45:02Z', 'content': None}, {'source': {'id': 'the-times-of-india', 'name': 'The Times of India'}, 'author': 'Navdeep Singh', 'title': 'Q4 results this week: ITC, ONGC, Sun Pharma, Nykaa, Ircon International and IRFC - The Economic Times', 'description': \"ITC, ONGC, IRFC, Ircon International, BHEL, BEL, Sun Pharma, Nykaa, Tata Investment Corporation, Hindalco, Ashok Leyland, and Divi's lab will be releasing their March quarter report cards this week.\", 'url': 'https://economictimes.indiatimes.com/markets/stocks/news/q4-results-this-week-itc-ongc-sun-pharma-nykaa-ircon-international-and-irfc/articleshow/110244356.cms', 'urlToImage': 'https://img.etimg.com/thumb/msid-110244423,width-1200,height-630,imgsize-23716,overlay-etmarkets/photo.jpg', 'publishedAt': '2024-05-19T05:53:57Z', 'content': \"Various widely tracked companies like ITC, ONGC, IRFC, Ircon International, BHEL, BEL, Sun Pharma, Nykaa, Tata Investment Corporation, Hindalco, Ashok Leyland, and Divi's lab will be releasing their … [+2590 chars]\"}, {'source': {'id': None, 'name': 'Livemint'}, 'author': 'Livemint', 'title': \"What does Google CEO Sundar Pichai like to eat in India? 'Dosa in Bengaluru, Chole Bhature if it is…' | Mint - Mint\", 'description': 'Google Chief Executive Officer Sundar Pichai recently talked about his favourite Indian food and said that he liked Dosa, Chole Bhature and pav bhaji', 'url': 'https://www.livemint.com/news/trends/what-does-google-ceo-sundar-pichai-like-in-india-dosa-bengaluru-chole-bhature-pav-bhaji-mumbai-favourite-indian-food-11716094636762.html', 'urlToImage': 'https://www.livemint.com/lm-img/img/2024/05/19/1600x900/Google_CEO_Sundar_Pichai_1716006234048_1716094648059.jpg', 'publishedAt': '2024-05-19T05:51:43Z', 'content': \"Google Chief Executive Officer Sundar Pichai's list of favourite Indian dishes is all about the country's diverse and rich cuisine. In an interview with YouTuber Varun Mayya, Sundar Pichai named not … [+2704 chars]\"}, {'source': {'id': None, 'name': 'Moneycontrol'}, 'author': 'PTI', 'title': 'Mcap of 8 of top 10 most valued firms climbs Rs 1.47 lakh cr; LIC, Reliance major gainers - Moneycontrol', 'description': 'Reliance Industries continued to remain the most valued firm, followed by TCS, HDFC Bank, ICICI Bank, Bharti Airtel, State Bank of India, LIC, Infosys, Hindustan Unilever and ITC.', 'url': 'https://www.moneycontrol.com/news/business/markets/mcap-of-8-of-top-10-most-valued-firms-climbs-rs-1-47-lakh-cr-lic-reliance-major-gainers-12726279.html', 'urlToImage': 'https://images.moneycontrol.com/static-mcnews/2024/04/marketup_sensexup-Niftyup.jpg', 'publishedAt': '2024-05-19T05:39:00Z', 'content': 'Eight of the top-10 most valued firms added Rs 1,47,935.19 crore in market valuation last week, with Life Insurance Corporation of India (LIC) and Reliance Industries emerging as the biggest gainers.… [+1312 chars]'}, {'source': {'id': None, 'name': 'GaadiWaadi.com'}, 'author': 'Surendhar M', 'title': 'Mahindra Thar & Bolero Neo Prices Hiked In India - All Details - GaadiWaadi.com', 'description': 'The prices of the Mahindra Thar have been hiked by Rs. 10,000 on select variants while the Bolero Neo is dearer by up to Rs. 14,000', 'url': 'https://gaadiwaadi.com/mahindra-thar-bolero-neo-prices-hiked-in-india-all-details/', 'urlToImage': 'https://gaadiwaadi.com/wp-content/uploads/2023/01/2023-mahindra-thar-rearwheel-drive-2wd-3-1.jpg', 'publishedAt': '2024-05-19T05:30:49Z', 'content': 'Mahindra &amp; Mahindra has released the updated prices of the Bolero Neo and as expected it has become more expensive by up to Rs. 14,000. Following this price adjustment, the Bolero Neo now has a s… [+1705 chars]'}, {'source': {'id': None, 'name': 'Motoroctane.com'}, 'author': 'Nachiket Bhole', 'title': 'Tata Nexon Spotted With Panoramic Sunroof! XUV 3XO Should Worry! - MotorOctane', 'description': 'Tata Nexon Panoramic Sunroof - Yes! It looks like Tata do not want the XUV 3XO to go ahead of the Nexon! Also, we can see two new features.', 'url': 'https://motoroctane.com/news/273109-tata-nexon-spotted-with-panoramic-sunroof-xuv-3xo-should-worry', 'urlToImage': 'https://motoroctane.com/wp-content/uploads/2024/05/6-2.png', 'publishedAt': '2024-05-19T05:08:40Z', 'content': 'Recently, Mahindra launched the XUV 3XO which wowed everyone with its feature list. One of the talking points was the first in segment panoramic sunroof. Mahindra proudly showcased the panoramic sunr… [+2756 chars]'}, {'source': {'id': None, 'name': 'Motoroctane.com'}, 'author': 'Nachiket Bhole', 'title': 'Want To Buy New Maruti Swift For Fun? Don’t! - MotorOctane', 'description': 'New Swift Power - Maruti launched the new Swift with the new Z-series engine which produces less power than before. But is it really slow?', 'url': 'https://motoroctane.com/news/273267-want-to-buy-new-maruti-swift-for-fun-dont', 'urlToImage': 'https://motoroctane.com/wp-content/uploads/2024/05/2-5.png', 'publishedAt': '2024-05-19T05:06:17Z', 'content': 'Maruti Swift facelift is the brands first launch of 2024. With the facelift, Maruti made subtle changes on the outside and a comprehensive change on the inside. Even the engine is all new and that is… [+2775 chars]'}, {'source': {'id': None, 'name': 'Livemint'}, 'author': 'Vaamanaa Sethi', 'title': 'Stocks to buy or sell: GAIL to Ashok Leyland — Sumeet Bagadia recommends three stocks for May 21 | Mint - Mint', 'description': 'Stocks to buy or sell: Sumeet Bagadia has recommended buying these these breakout stocks on May 21 — Hindalco, GAIL and Ashok Leyland', 'url': 'https://www.livemint.com/market/stock-market-news/stocks-to-buy-or-sell-gail-to-ashok-leyland-sumeet-bagadia-recommends-three-stocks-for-may-21-11716091700619.html', 'urlToImage': 'https://www.livemint.com/lm-img/img/2024/05/19/1600x900/Sumeet_Bagadia_1716094468412_1716094468551.jpg', 'publishedAt': '2024-05-19T04:58:07Z', 'content': \"Stocks to buy or sell: The Sensex and Nifty 50, key domestic equity benchmarks, concluded Saturday's trading session with upward momentum, extending their three-day rally. Fresh inflows of foreign in… [+8236 chars]\"}, {'source': {'id': 'the-times-of-india', 'name': 'The Times of India'}, 'author': 'Navdeep Singh', 'title': 'Corporate actions this week: SBI, Tata Consumer Products to go ex-dividend, Bharat Dynamics ex-split & mor - The Economic Times', 'description': 'This week, SBI, Colgate-Palmolive (India), Oberoi Realty, Tata Consumer Products, and Sula Vineyard will go ex-dividend. Bharat Dynamics and Som Distilleries Breweries & Wineries will undergo a stock split, with other companies also set for corporate actions …', 'url': 'https://economictimes.indiatimes.com/markets/stocks/news/corporate-actions-this-week-sbi-tata-consumer-products-to-go-ex-dividend-bharat-dynamics-ex-split-more/articleshow/110244016.cms', 'urlToImage': 'https://img.etimg.com/thumb/msid-110244036,width-1200,height-630,imgsize-57054,overlay-etmarkets/photo.jpg', 'publishedAt': '2024-05-19T04:49:24Z', 'content': 'This week is packed with notable corporate actions. SBI, Colgate-Palmolive (India), Oberoi Realty, Tata Consumer Products, and Sula Vineyard are set to go ex-dividend, while Bharat Dynamics and Som D… [+2077 chars]'}, {'source': {'id': None, 'name': 'YouTube'}, 'author': None, 'title': 'Elon Musk arrives in Indonesia to launch Starlink satellite internet service - Associated Press', 'description': 'Elon Musk has arrived in Indonesia’s resort island of Bali to launch Starlink satellite internet service in the world’s largest archipelago nation. The billi...', 'url': 'https://www.youtube.com/watch?v=nt6DTzJJgxo', 'urlToImage': 'https://i.ytimg.com/vi/nt6DTzJJgxo/maxresdefault.jpg', 'publishedAt': '2024-05-19T04:26:14Z', 'content': None}, {'source': {'id': None, 'name': 'Livemint'}, 'author': 'Vaamanaa Sethi', 'title': 'Upcoming IPOs: Two public issues, 8 new listings to keep primary market busy next week amid elections | Mint - Mint', 'description': 'Next week, Awfis Space Solutions, a leading provider of shared workspaces in India, is expected to launch its IPO, targeting to raise around  ₹599 crore.', 'url': 'https://www.livemint.com/market/ipo/upcoming-ipos-two-public-issues-8-new-listings-to-keep-primary-market-busy-next-week-amid-elections-11716088008119.html', 'urlToImage': 'https://www.livemint.com/lm-img/img/2024/05/19/1600x900/IPO_1716090729800_1716090729997.jpg', 'publishedAt': '2024-05-19T03:58:40Z', 'content': 'After a busy last week, the primary market is all set for a breather. Only two new initial public offerings (IPO) will open for subscription in the upcoming week amid ongoing general elections. In ad… [+5478 chars]'}, {'source': {'id': None, 'name': 'GaadiWaadi.com'}, 'author': 'Surendhar M', 'title': '5+ Upcoming 400-450 CC Bikes Launching Soon In India - GaadiWaadi.com', 'description': 'Bajaj Auto, RE, KTM and Triumph are set to introduce new 400 cc motorcycles in India. Here, we provide an overview of these upcoming models', 'url': 'https://gaadiwaadi.com/5-upcoming-400-450-cc-bikes-launching-soon-in-india/', 'urlToImage': 'https://gaadiwaadi.com/wp-content/uploads/2023/11/Triumph-Thruxton-400.jpg', 'publishedAt': '2024-05-19T03:56:15Z', 'content': 'Motorcycle manufacturers such as Bajaj Auto, KTM, Royal Enfield and Triumph are expected to launch new 400 cc motorcycles in the domestic market. Some of these models have already been spotted testin… [+2105 chars]'}, {'source': {'id': None, 'name': 'NDTV News'}, 'author': None, 'title': \"Neuralink's First Brain Implant Patient Reveals How The Technology Changed His Life - NDTV\", 'description': 'Mr Arbaugh said that the device has given him the ability to have nearly full control over using a computer, using only his thoughts.', 'url': 'https://www.ndtv.com/world-news/neuralinks-first-brain-implant-patient-reveals-how-the-technology-changed-his-life-5695899', 'urlToImage': 'https://c.ndtvimg.com/2024-03/k88hjr0g_noland-arbaugh_625x300_24_March_24.jpeg', 'publishedAt': '2024-05-19T03:55:54Z', 'content': 'Neuralink is a brain technology startup founded by Elon Musk.\\r\\nNoland Arbaugh, who became the first human to receive a Neuralink brain implant chip,\\xa0recently revealed how the pioneering technology ha… [+2403 chars]'}, {'source': {'id': None, 'name': 'Livemint'}, 'author': 'Livemint', 'title': 'NHPC Q4 Results Live : profit falls by 18.18% YOY | Mint - Mint', 'description': 'NHPC Q4 Results Live : Revenue decreased by 6.93% YoY & profit decreased by 18.18% YoY', 'url': 'https://www.livemint.com/companies/company-results/nhpc-q4-results-live-profit-falls-by-18-18-yoy-11716073063037.html', 'urlToImage': 'https://www.livemint.com/lm-img/img/2023/05/04/1600x900/The-Bombay-Stock-Exchange-in-Mumbai---Bloomberg-Ph_1683200468247_1683200494396.jpg', 'publishedAt': '2024-05-18T22:57:42Z', 'content': 'NHPC Q4 Results Live : NHPC announced their Q4 results on 17 May, 2024, showcasing a decrease in revenue by 6.93% and a decline in profit by 18.18% YoY. In comparison to the previous quarter, the com… [+2522 chars]'}, {'source': {'id': 'google-news', 'name': 'Google News'}, 'author': 'The Indian Express', 'title': 'Equity options boom: Retail frenzy a growing concern as “sachetisation” of option plans draws in younger investors from small towns - The Indian Express', 'description': None, 'url': 'https://news.google.com/rss/articles/CBMipAFodHRwczovL2luZGlhbmV4cHJlc3MuY29tL2FydGljbGUvYnVzaW5lc3MvZXF1aXR5LW9wdGlvbnMtYm9vbS1yZXRhaWwtZnJlbnp5LWdyb3dpbmctY29uY2Vybi1zYWNoZXRpc2F0aW9uLW9wdGlvbi1wbGFucy1kcmF3cy15b3VuZ2VyLWludmVzdG9ycy1zbWFsbC10b3ducy05MzM3OTE0L9IBqQFodHRwczovL2luZGlhbmV4cHJlc3MuY29tL2FydGljbGUvYnVzaW5lc3MvZXF1aXR5LW9wdGlvbnMtYm9vbS1yZXRhaWwtZnJlbnp5LWdyb3dpbmctY29uY2Vybi1zYWNoZXRpc2F0aW9uLW9wdGlvbi1wbGFucy1kcmF3cy15b3VuZ2VyLWludmVzdG9ycy1zbWFsbC10b3ducy05MzM3OTE0L2xpdGUv?oc=5', 'urlToImage': None, 'publishedAt': '2024-05-18T21:04:28Z', 'content': None}, {'source': {'id': 'the-times-of-india', 'name': 'The Times of India'}, 'author': 'TNN', 'title': 'N Vaghul, banker who built ICICI brand, dies at 88 - The Times of India', 'description': \"India Business News: N Vaghul, a banking industry pioneer, passed away at 88 in Apollo hospital. He redefined ICICI, India's second-largest bank, and earned the Padma Bhus\", 'url': 'https://timesofindia.indiatimes.com/business/india-business/n-vaghul-banker-who-built-icici-brand-dies-at-88/articleshow/110238867.cms', 'urlToImage': 'https://static.toiimg.com/thumb/msid-110238885,width-1070,height-580,imgsize-22966,resizemode-75,overlay-toi_sw,pt-32,y_pad-40/photo.jpg', 'publishedAt': '2024-05-18T21:02:00Z', 'content': 'FD Calculator\\r\\nWhen investing in a fixed deposit, the amount you deposit earns interest as per the prevailing...\\r\\nCalculate Now'}]\n"
     ]
    }
   ],
   "source": [
    "import requests\n",
    "\n",
    "url = ('https://newsapi.org/v2/top-headlines?country=in&category=business&apiKey=5f52da7203904a0cae3a2282b2b861af')\n",
    "\n",
    "response = requests.get(url)\n",
    "news=response.json()\n",
    "articles=news.get('articles')\n",
    "print(articles)"
   ],
   "metadata": {
    "collapsed": false,
    "ExecuteTime": {
     "end_time": "2024-05-20T11:55:39.539066400Z",
     "start_time": "2024-05-20T11:55:38.874058200Z"
    }
   },
   "id": "8c9048885f8c9de9",
   "execution_count": 34
  },
  {
   "cell_type": "code",
   "outputs": [
    {
     "name": "stdout",
     "output_type": "stream",
     "text": [
      "['Dalal Street Week Ahead: Lok Sabha Elections, FOMC Minutes, Earnings, FIIs mood among 10 key factors to... - Moneycontrol', 'India may export 14,000 tonnes of non-basmati rice to Mauritius and 7,500 tonnes of onions to Qatar | Mint - Mint', 'FPIs withdraw Rs 28,200 cr from Indian equities on poll jitters, attractive Chinese mkt valuations - Moneycontrol', 'Indian drug makers recall products from the US market due to manufacturing issues - CNBCTV18', \"India's BIG SUV Problem! - MotorOctane\", 'Q4 results this week: ITC, ONGC, Sun Pharma, Nykaa, Ircon International and IRFC - The Economic Times', \"What does Google CEO Sundar Pichai like to eat in India? 'Dosa in Bengaluru, Chole Bhature if it is…' | Mint - Mint\", 'Mcap of 8 of top 10 most valued firms climbs Rs 1.47 lakh cr; LIC, Reliance major gainers - Moneycontrol', 'Mahindra Thar & Bolero Neo Prices Hiked In India - All Details - GaadiWaadi.com', 'Tata Nexon Spotted With Panoramic Sunroof! XUV 3XO Should Worry! - MotorOctane', 'Want To Buy New Maruti Swift For Fun? Don’t! - MotorOctane', 'Stocks to buy or sell: GAIL to Ashok Leyland — Sumeet Bagadia recommends three stocks for May 21 | Mint - Mint', 'Corporate actions this week: SBI, Tata Consumer Products to go ex-dividend, Bharat Dynamics ex-split & mor - The Economic Times', 'Elon Musk arrives in Indonesia to launch Starlink satellite internet service - Associated Press', 'Upcoming IPOs: Two public issues, 8 new listings to keep primary market busy next week amid elections | Mint - Mint', '5+ Upcoming 400-450 CC Bikes Launching Soon In India - GaadiWaadi.com', \"Neuralink's First Brain Implant Patient Reveals How The Technology Changed His Life - NDTV\", 'NHPC Q4 Results Live : profit falls by 18.18% YOY | Mint - Mint', 'Equity options boom: Retail frenzy a growing concern as “sachetisation” of option plans draws in younger investors from small towns - The Indian Express', 'N Vaghul, banker who built ICICI brand, dies at 88 - The Times of India'] ['The market, in the coming truncated week, is expected to be consolidative with a positive bias.', 'The export of rice comes against the backdrop of an export ban since last July, with $550 per tonne minimum export price (MEP) and 40% export duty on onions.', 'According to data from depositories, foreign portfolio investors experienced a net outflow of Rs 28,242 crore in equities this month (till May 17).', \"Dr Reddy's Laboratories is recalling nearly 20,000 cartons of a medication used to control blood phenylalanine levels in adults and children. Sun Pharma is recalling 11,016 vials of Amphotericin B Liposome for Injection, while Aurobindo Pharma is recalling 13…\", 'In this video, we discuss how a sedan market like India turned into a majorly SUV dominant market. Is the sedan-hatchback market going to disappear? Will SUV...', \"ITC, ONGC, IRFC, Ircon International, BHEL, BEL, Sun Pharma, Nykaa, Tata Investment Corporation, Hindalco, Ashok Leyland, and Divi's lab will be releasing their March quarter report cards this week.\", 'Google Chief Executive Officer Sundar Pichai recently talked about his favourite Indian food and said that he liked Dosa, Chole Bhature and pav bhaji', 'Reliance Industries continued to remain the most valued firm, followed by TCS, HDFC Bank, ICICI Bank, Bharti Airtel, State Bank of India, LIC, Infosys, Hindustan Unilever and ITC.', 'The prices of the Mahindra Thar have been hiked by Rs. 10,000 on select variants while the Bolero Neo is dearer by up to Rs. 14,000', 'Tata Nexon Panoramic Sunroof - Yes! It looks like Tata do not want the XUV 3XO to go ahead of the Nexon! Also, we can see two new features.', 'New Swift Power - Maruti launched the new Swift with the new Z-series engine which produces less power than before. But is it really slow?', 'Stocks to buy or sell: Sumeet Bagadia has recommended buying these these breakout stocks on May 21 — Hindalco, GAIL and Ashok Leyland', 'This week, SBI, Colgate-Palmolive (India), Oberoi Realty, Tata Consumer Products, and Sula Vineyard will go ex-dividend. Bharat Dynamics and Som Distilleries Breweries & Wineries will undergo a stock split, with other companies also set for corporate actions …', 'Elon Musk has arrived in Indonesia’s resort island of Bali to launch Starlink satellite internet service in the world’s largest archipelago nation. The billi...', 'Next week, Awfis Space Solutions, a leading provider of shared workspaces in India, is expected to launch its IPO, targeting to raise around  ₹599 crore.', 'Bajaj Auto, RE, KTM and Triumph are set to introduce new 400 cc motorcycles in India. Here, we provide an overview of these upcoming models', 'Mr Arbaugh said that the device has given him the ability to have nearly full control over using a computer, using only his thoughts.', 'NHPC Q4 Results Live : Revenue decreased by 6.93% YoY & profit decreased by 18.18% YoY', None, \"India Business News: N Vaghul, a banking industry pioneer, passed away at 88 in Apollo hospital. He redefined ICICI, India's second-largest bank, and earned the Padma Bhus\"]\n"
     ]
    }
   ],
   "source": [
    "titles,descriptions=[],[]\n",
    "for article in articles:\n",
    "    title = article.get('title')\n",
    "    description = article.get('description')\n",
    "    \n",
    "    titles.append(title)\n",
    "    descriptions.append(description)\n",
    "\n",
    "print(titles,descriptions)\n"
   ],
   "metadata": {
    "collapsed": false,
    "ExecuteTime": {
     "end_time": "2024-05-20T11:55:39.543752300Z",
     "start_time": "2024-05-20T11:55:39.540248900Z"
    }
   },
   "id": "5d16907792c7e612",
   "execution_count": 35
  },
  {
   "cell_type": "code",
   "outputs": [
    {
     "name": "stdout",
     "output_type": "stream",
     "text": [
      "20\n"
     ]
    }
   ],
   "source": [
    "print(len(descriptions))"
   ],
   "metadata": {
    "collapsed": false,
    "ExecuteTime": {
     "end_time": "2024-05-20T11:55:39.595866600Z",
     "start_time": "2024-05-20T11:55:39.543752300Z"
    }
   },
   "id": "2f0ad35b9cedd249",
   "execution_count": 36
  },
  {
   "cell_type": "code",
   "outputs": [
    {
     "name": "stdout",
     "output_type": "stream",
     "text": [
      "[{'label': 'NEGATIVE', 'score': 0.9967430233955383}]\n",
      "[{'label': 'NEGATIVE', 'score': 0.9956737160682678}]\n",
      "[{'label': 'NEGATIVE', 'score': 0.9295387864112854}]\n",
      "[{'label': 'NEGATIVE', 'score': 0.9508907794952393}]\n",
      "[{'label': 'NEGATIVE', 'score': 0.9988937973976135}]\n",
      "[{'label': 'POSITIVE', 'score': 0.9084182977676392}]\n",
      "[{'label': 'POSITIVE', 'score': 0.9976656436920166}]\n",
      "[{'label': 'POSITIVE', 'score': 0.9975212216377258}]\n",
      "[{'label': 'NEGATIVE', 'score': 0.9934960603713989}]\n",
      "[{'label': 'POSITIVE', 'score': 0.5370550155639648}]\n",
      "[{'label': 'NEGATIVE', 'score': 0.9990441203117371}]\n",
      "[{'label': 'POSITIVE', 'score': 0.9904170036315918}]\n",
      "[{'label': 'NEGATIVE', 'score': 0.9984275102615356}]\n",
      "[{'label': 'POSITIVE', 'score': 0.9339715242385864}]\n",
      "[{'label': 'POSITIVE', 'score': 0.9418454766273499}]\n",
      "[{'label': 'POSITIVE', 'score': 0.9996621608734131}]\n",
      "[{'label': 'POSITIVE', 'score': 0.7826946973800659}]\n",
      "[{'label': 'NEGATIVE', 'score': 0.9983830451965332}]\n",
      "[{'label': 'POSITIVE', 'score': 0.9667259454727173}]\n"
     ]
    }
   ],
   "source": [
    "desc_sentiment=[]\n",
    "for i in range(len(descriptions)):\n",
    "    try:\n",
    "        data= (descriptions[i])\n",
    "        sentiment = sentiment_pipeline(data)\n",
    "        print(sentiment)\n",
    "        desc_sentiment.append(sentiment)\n",
    "    except Exception as e:\n",
    "        continue"
   ],
   "metadata": {
    "collapsed": false,
    "ExecuteTime": {
     "end_time": "2024-05-20T11:55:40.073800900Z",
     "start_time": "2024-05-20T11:55:39.565678400Z"
    }
   },
   "id": "bc2d078d90fa1cf2",
   "execution_count": 37
  },
  {
   "cell_type": "code",
   "outputs": [
    {
     "name": "stdout",
     "output_type": "stream",
     "text": [
      "[{'label': 'POSITIVE', 'score': 0.5508540272712708}]\n",
      "[{'label': 'NEGATIVE', 'score': 0.9196441769599915}]\n",
      "[{'label': 'NEGATIVE', 'score': 0.9985081553459167}]\n",
      "[{'label': 'NEGATIVE', 'score': 0.9986029267311096}]\n",
      "[{'label': 'NEGATIVE', 'score': 0.9995577931404114}]\n",
      "[{'label': 'POSITIVE', 'score': 0.9715904593467712}]\n",
      "[{'label': 'NEGATIVE', 'score': 0.9727263450622559}]\n",
      "[{'label': 'NEGATIVE', 'score': 0.9512924551963806}]\n",
      "[{'label': 'NEGATIVE', 'score': 0.9397744536399841}]\n",
      "[{'label': 'POSITIVE', 'score': 0.8441296815872192}]\n",
      "[{'label': 'NEGATIVE', 'score': 0.9983258843421936}]\n",
      "[{'label': 'NEGATIVE', 'score': 0.9064367413520813}]\n",
      "[{'label': 'NEGATIVE', 'score': 0.9799260497093201}]\n",
      "[{'label': 'POSITIVE', 'score': 0.9685136675834656}]\n",
      "[{'label': 'NEGATIVE', 'score': 0.987667977809906}]\n",
      "[{'label': 'POSITIVE', 'score': 0.9956170320510864}]\n",
      "[{'label': 'POSITIVE', 'score': 0.9974188804626465}]\n",
      "[{'label': 'NEGATIVE', 'score': 0.994848370552063}]\n",
      "[{'label': 'POSITIVE', 'score': 0.9596580266952515}]\n",
      "[{'label': 'NEGATIVE', 'score': 0.98179030418396}]\n"
     ]
    }
   ],
   "source": [
    "title_sentiment=[]\n",
    "for i in range(len(titles)):\n",
    "    try:\n",
    "        data= (titles[i])\n",
    "        sentiment = sentiment_pipeline(data)\n",
    "        print(sentiment)\n",
    "        title_sentiment.append(sentiment)\n",
    "    except Exception as e:\n",
    "        continue"
   ],
   "metadata": {
    "collapsed": false,
    "ExecuteTime": {
     "end_time": "2024-05-20T11:55:40.490646Z",
     "start_time": "2024-05-20T11:55:40.071880Z"
    }
   },
   "id": "cc886d1533238f82",
   "execution_count": 38
  },
  {
   "cell_type": "code",
   "outputs": [
    {
     "name": "stdout",
     "output_type": "stream",
     "text": [
      "[[{'label': 'POSITIVE', 'score': 0.5508540272712708}], [{'label': 'NEGATIVE', 'score': 0.9196441769599915}], [{'label': 'NEGATIVE', 'score': 0.9985081553459167}], [{'label': 'NEGATIVE', 'score': 0.9986029267311096}], [{'label': 'NEGATIVE', 'score': 0.9995577931404114}], [{'label': 'POSITIVE', 'score': 0.9715904593467712}], [{'label': 'NEGATIVE', 'score': 0.9727263450622559}], [{'label': 'NEGATIVE', 'score': 0.9512924551963806}], [{'label': 'NEGATIVE', 'score': 0.9397744536399841}], [{'label': 'POSITIVE', 'score': 0.8441296815872192}], [{'label': 'NEGATIVE', 'score': 0.9983258843421936}], [{'label': 'NEGATIVE', 'score': 0.9064367413520813}], [{'label': 'NEGATIVE', 'score': 0.9799260497093201}], [{'label': 'POSITIVE', 'score': 0.9685136675834656}], [{'label': 'NEGATIVE', 'score': 0.987667977809906}], [{'label': 'POSITIVE', 'score': 0.9956170320510864}], [{'label': 'POSITIVE', 'score': 0.9974188804626465}], [{'label': 'NEGATIVE', 'score': 0.994848370552063}], [{'label': 'POSITIVE', 'score': 0.9596580266952515}], [{'label': 'NEGATIVE', 'score': 0.98179030418396}]]\n"
     ]
    }
   ],
   "source": [
    "print(title_sentiment)\n",
    "label,score=[],[]\n",
    "for k in title_sentiment:\n",
    "    l=k[0].get('label')\n",
    "    label.append(l)\n",
    "    s=k[0].get('score')\n",
    "    score.append(s)"
   ],
   "metadata": {
    "collapsed": false,
    "ExecuteTime": {
     "end_time": "2024-05-20T11:55:40.491645600Z",
     "start_time": "2024-05-20T11:55:40.483840700Z"
    }
   },
   "id": "f696809a38ed48f5",
   "execution_count": 39
  },
  {
   "cell_type": "code",
   "outputs": [
    {
     "data": {
      "text/plain": "(['POSITIVE',\n  'NEGATIVE',\n  'NEGATIVE',\n  'NEGATIVE',\n  'NEGATIVE',\n  'POSITIVE',\n  'NEGATIVE',\n  'NEGATIVE',\n  'NEGATIVE',\n  'POSITIVE',\n  'NEGATIVE',\n  'NEGATIVE',\n  'NEGATIVE',\n  'POSITIVE',\n  'NEGATIVE',\n  'POSITIVE',\n  'POSITIVE',\n  'NEGATIVE',\n  'POSITIVE',\n  'NEGATIVE'],\n [0.5508540272712708,\n  0.9196441769599915,\n  0.9985081553459167,\n  0.9986029267311096,\n  0.9995577931404114,\n  0.9715904593467712,\n  0.9727263450622559,\n  0.9512924551963806,\n  0.9397744536399841,\n  0.8441296815872192,\n  0.9983258843421936,\n  0.9064367413520813,\n  0.9799260497093201,\n  0.9685136675834656,\n  0.987667977809906,\n  0.9956170320510864,\n  0.9974188804626465,\n  0.994848370552063,\n  0.9596580266952515,\n  0.98179030418396])"
     },
     "execution_count": 40,
     "metadata": {},
     "output_type": "execute_result"
    }
   ],
   "source": [
    "label,score"
   ],
   "metadata": {
    "collapsed": false,
    "ExecuteTime": {
     "end_time": "2024-05-20T11:55:40.504292700Z",
     "start_time": "2024-05-20T11:55:40.488647700Z"
    }
   },
   "id": "71fd42ca2f37eeb7",
   "execution_count": 40
  },
  {
   "cell_type": "code",
   "outputs": [],
   "source": [
    "net=0\n",
    "for i in range(len(label)):\n",
    "    \n",
    "    if label[i]=='NEGATIVE':\n",
    "        net = net+ (-1*score[i])\n",
    "    if label[i]=='POSITIVE':\n",
    "        net = net+ (+1*score[i])"
   ],
   "metadata": {
    "collapsed": false,
    "ExecuteTime": {
     "end_time": "2024-05-20T11:55:40.510188500Z",
     "start_time": "2024-05-20T11:55:40.504292700Z"
    }
   },
   "id": "ba3bde5de25e0d57",
   "execution_count": 41
  },
  {
   "cell_type": "code",
   "outputs": [
    {
     "data": {
      "text/plain": "-0.31706599295139315"
     },
     "execution_count": 42,
     "metadata": {},
     "output_type": "execute_result"
    }
   ],
   "source": [
    "net/len(label)"
   ],
   "metadata": {
    "collapsed": false,
    "ExecuteTime": {
     "end_time": "2024-05-20T11:55:40.520345Z",
     "start_time": "2024-05-20T11:55:40.512189100Z"
    }
   },
   "id": "f9f1fdcf9ab1353e",
   "execution_count": 42
  },
  {
   "cell_type": "code",
   "outputs": [],
   "source": [
    "label,score=[],[]\n",
    "for k in desc_sentiment:\n",
    "    l=k[0].get('label')\n",
    "    label.append(l)\n",
    "    s=k[0].get('score')\n",
    "    score.append(s)"
   ],
   "metadata": {
    "collapsed": false,
    "ExecuteTime": {
     "end_time": "2024-05-20T11:55:40.570003400Z",
     "start_time": "2024-05-20T11:55:40.518347Z"
    }
   },
   "id": "ab4b5559dc94a624",
   "execution_count": 43
  },
  {
   "cell_type": "code",
   "outputs": [
    {
     "data": {
      "text/plain": "(['NEGATIVE',\n  'NEGATIVE',\n  'NEGATIVE',\n  'NEGATIVE',\n  'NEGATIVE',\n  'POSITIVE',\n  'POSITIVE',\n  'POSITIVE',\n  'NEGATIVE',\n  'POSITIVE',\n  'NEGATIVE',\n  'POSITIVE',\n  'NEGATIVE',\n  'POSITIVE',\n  'POSITIVE',\n  'POSITIVE',\n  'POSITIVE',\n  'NEGATIVE',\n  'POSITIVE'],\n [0.9967430233955383,\n  0.9956737160682678,\n  0.9295387864112854,\n  0.9508907794952393,\n  0.9988937973976135,\n  0.9084182977676392,\n  0.9976656436920166,\n  0.9975212216377258,\n  0.9934960603713989,\n  0.5370550155639648,\n  0.9990441203117371,\n  0.9904170036315918,\n  0.9984275102615356,\n  0.9339715242385864,\n  0.9418454766273499,\n  0.9996621608734131,\n  0.7826946973800659,\n  0.9983830451965332,\n  0.9667259454727173])"
     },
     "execution_count": 44,
     "metadata": {},
     "output_type": "execute_result"
    }
   ],
   "source": [
    "label,score"
   ],
   "metadata": {
    "collapsed": false,
    "ExecuteTime": {
     "end_time": "2024-05-20T11:55:40.572003400Z",
     "start_time": "2024-05-20T11:55:40.532733800Z"
    }
   },
   "id": "f0cc167ebd969060",
   "execution_count": 44
  },
  {
   "cell_type": "code",
   "outputs": [],
   "source": [
    "net=0\n",
    "for i in range(len(label)):\n",
    "    \n",
    "    if label[i]=='NEGATIVE':\n",
    "        net = net+ (-1*score[i])\n",
    "    if label[i]=='POSITIVE':\n",
    "        net = net+ (+1*score[i])"
   ],
   "metadata": {
    "collapsed": false,
    "ExecuteTime": {
     "end_time": "2024-05-20T11:55:40.573003400Z",
     "start_time": "2024-05-20T11:55:40.546464300Z"
    }
   },
   "id": "34845f336c041271",
   "execution_count": 45
  },
  {
   "cell_type": "code",
   "outputs": [
    {
     "data": {
      "text/plain": "0.010257165682943244"
     },
     "execution_count": 46,
     "metadata": {},
     "output_type": "execute_result"
    }
   ],
   "source": [
    "net/len(label)"
   ],
   "metadata": {
    "collapsed": false,
    "ExecuteTime": {
     "end_time": "2024-05-20T11:55:40.594004Z",
     "start_time": "2024-05-20T11:55:40.553591300Z"
    }
   },
   "id": "787d2e7ed8795653",
   "execution_count": 46
  },
  {
   "cell_type": "code",
   "outputs": [],
   "source": [],
   "metadata": {
    "collapsed": false,
    "ExecuteTime": {
     "end_time": "2024-05-20T11:55:40.595004300Z",
     "start_time": "2024-05-20T11:55:40.561491300Z"
    }
   },
   "id": "a7f77cd733a9d328",
   "execution_count": 46
  }
 ],
 "metadata": {
  "kernelspec": {
   "display_name": "Python 3",
   "language": "python",
   "name": "python3"
  },
  "language_info": {
   "codemirror_mode": {
    "name": "ipython",
    "version": 2
   },
   "file_extension": ".py",
   "mimetype": "text/x-python",
   "name": "python",
   "nbconvert_exporter": "python",
   "pygments_lexer": "ipython2",
   "version": "2.7.6"
  }
 },
 "nbformat": 4,
 "nbformat_minor": 5
}
