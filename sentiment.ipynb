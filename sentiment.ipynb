{
 "cells": [
  {
   "cell_type": "code",
   "execution_count": 19,
   "id": "initial_id",
   "metadata": {
    "collapsed": true,
    "ExecuteTime": {
     "end_time": "2024-05-21T05:48:21.214237300Z",
     "start_time": "2024-05-21T05:48:20.360843600Z"
    }
   },
   "outputs": [
    {
     "name": "stderr",
     "output_type": "stream",
     "text": [
      "No model was supplied, defaulted to distilbert/distilbert-base-uncased-finetuned-sst-2-english and revision af0f99b (https://huggingface.co/distilbert/distilbert-base-uncased-finetuned-sst-2-english).\n",
      "Using a pipeline without specifying a model name and revision in production is not recommended.\n",
      "D:\\PythonProjects\\Stock-deck\\.venv\\Lib\\site-packages\\huggingface_hub\\file_download.py:1132: FutureWarning: `resume_download` is deprecated and will be removed in version 1.0.0. Downloads always resume when possible. If you want to force a new download, use `force_download=True`.\n",
      "  warnings.warn(\n"
     ]
    },
    {
     "data": {
      "text/plain": "[{'label': 'NEGATIVE', 'score': 0.994644045829773},\n {'label': 'NEGATIVE', 'score': 0.9991129040718079}]"
     },
     "execution_count": 19,
     "metadata": {},
     "output_type": "execute_result"
    }
   ],
   "source": [
    "from transformers import pipeline\n",
    "\n",
    "sentiment_pipeline = pipeline(\"sentiment-analysis\")\n",
    "data = [\"Tesla earnings tanked by 3%\", \"I hate you\"]\n",
    "sentiment_pipeline(data)"
   ]
  },
  {
   "cell_type": "code",
   "outputs": [
    {
     "name": "stdout",
     "output_type": "stream",
     "text": [
      "[{'source': {'id': None, 'name': 'KTLA Los Angeles'}, 'author': 'Jas Kang', 'title': '$395 pineapple being sold at Southern California produce store - KTLA Los Angeles', 'description': 'Families in California pay more for groceries than those in any other state. Now, a single fruit is being sold at a SoCal retailer that costs more than the average of $297.72 per week that households spend on food in the Golden State. The Rubyglow pineapple i…', 'url': 'https://ktla.com/news/local-news/395-pineapple-being-sold-at-southern-california-produce-store/', 'urlToImage': 'https://ktla.com/wp-content/uploads/sites/4/2024/05/snapshot_f0f6db.jpg?w=1280', 'publishedAt': '2024-05-20T01:38:23Z', 'content': 'Families in California pay more for groceries than those in any other state. Now, a single fruit is being sold at a SoCal retailer that costs more than the average of $297.72 per week that households… [+1176 chars]'}, {'source': {'id': None, 'name': 'CNBC'}, 'author': 'Lisa Kailai Han', 'title': 'Stock futures tick higher after Dow closes above 40,000 for the first time: Live updates - CNBC', 'description': 'The Dow Jones Industrial Average is coming off of a notable week, having reached an all-time high on Thursday and a close above 40,000 on Friday.', 'url': 'https://www.cnbc.com/2024/05/19/stock-market-today-live-updates.html', 'urlToImage': 'https://image.cnbcfm.com/api/v1/image/107416608-1715960766151-gettyimages-2152821471-AFP_34RZ9ZW.jpeg?v=1715960841&w=1920&h=1080', 'publishedAt': '2024-05-20T01:34:00Z', 'content': 'U.S. stock futures ticked higher on Sunday night, after the Dow Jones Industrial Average closed above the key 40,000 level for the first time ever on Friday.\\r\\nFutures tied to the 30-stock index rose … [+1621 chars]'}, {'source': {'id': 'bloomberg', 'name': 'Bloomberg'}, 'author': None, 'title': 'Gold Holds Near Record as Fed Rate-Cut Optimism Fuels Demand - Bloomberg', 'description': None, 'url': 'https://www.bloomberg.com/news/articles/2024-05-20/gold-xauusd-holds-near-record-as-fed-rate-cut-optimism-fuels-demand', 'urlToImage': None, 'publishedAt': '2024-05-20T00:23:00Z', 'content': \"To continue, please click the box below to let us know you're not a robot.\"}, {'source': {'id': None, 'name': 'Fox Business'}, 'author': 'Michael Dorgan', 'title': 'Costco price hike: Popular items see unexpected jumps in cost - Fox Business', 'description': \"Costco's multinational chain of membership-only stores have increased some prices, like for olive oil and gas, while its $1.50 hot dog-soda combo is unchanged for the time being.\", 'url': 'https://www.foxbusiness.com/retail/costco-price-hike-popular-items-see-unexpected-jumps-cost', 'urlToImage': 'https://a57.foxnews.com/static.foxbusiness.com/foxbusiness.com/content/uploads/2021/08/0/0/iStock-1172757625.jpg?ve=1&tl=1', 'publishedAt': '2024-05-20T00:03:00Z', 'content': 'Creeping price hikes have become all too common for consumers, and Costco has generally been a safe haven for savvy shoppers due to its bulk buys and competitive prices.\\xa0\\r\\nHowever, the retailer has r… [+3623 chars]'}, {'source': {'id': None, 'name': 'Tipranks.com'}, 'author': 'Marty Shtrubel', 'title': \"'It's a Losing Game,' Says Wedbush About GameStop Stock - TipRanks.com - TipRanks\", 'description': 'GameStop (NYSE:GME) stock doesn’t seem to do anything in half measures. Following a long absence, a recent tweet by Roaring Kitty, the person largely responsible fo...', 'url': 'https://www.tipranks.com/news/its-a-losing-game-says-wedbush-about-gamestop-stock', 'urlToImage': 'https://blog.tipranks.com/wp-content/uploads/2024/05/GME-0520-750x400.jpg', 'publishedAt': '2024-05-19T23:36:47Z', 'content': 'GameStop (NYSE:GME) stock doesnt seem to do anything in half measures. Following a long absence, a recent tweet by Roaring Kitty, the person largely responsible for kicking off 2021s meme stock mania… [+2747 chars]'}, {'source': {'id': 'reuters', 'name': 'Reuters'}, 'author': 'Reuters', 'title': 'EQT in advanced talks to buy Keywords Studios for $2.8 billion - Reuters', 'description': None, 'url': 'https://www.reuters.com/markets/deals/eqt-talks-buy-keywords-studios-28-bln-ft-reports-2024-05-19/', 'urlToImage': None, 'publishedAt': '2024-05-19T23:35:00Z', 'content': None}, {'source': {'id': None, 'name': 'Yahoo Entertainment'}, 'author': 'Jason Ma', 'title': \"AI chip giant Nvidia is about to report first-quarter earnings: Here's what Wall Street expects as growth looks set to cool - Yahoo Finance\", 'description': \"Analysts see Nvidia's earnings per share soaring 474% to $5.22, with revenue up 241% to $24.5 billion.\", 'url': 'https://finance.yahoo.com/news/ai-chip-giant-nvidia-report-221002806.html', 'urlToImage': 'https://s.yimg.com/ny/api/res/1.2/fPWOfvHgAC3GpH4D7YNQSQ--/YXBwaWQ9aGlnaGxhbmRlcjt3PTEyMDA7aD04MDA-/https://media.zenfs.com/en/fortune_175/016bea9382934dd1b981f05b77a3ec2b', 'publishedAt': '2024-05-19T22:10:02Z', 'content': 'Top AI chip supplier Nvidia reports fiscal first-quarter results Wednesday after the market closes, with Wall Street anticipating some deceleration following its earlier blockbuster growth.\\r\\nStill, f… [+2736 chars]'}, {'source': {'id': 'bloomberg', 'name': 'Bloomberg'}, 'author': None, 'title': \"China's Housing Rescue Is Too Small to End Crisis, Analysts Say - Bloomberg\", 'description': None, 'url': 'https://www.bloomberg.com/news/articles/2024-05-19/china-s-housing-rescue-is-too-small-to-end-crisis-analysts-say', 'urlToImage': None, 'publishedAt': '2024-05-19T22:00:00Z', 'content': \"To continue, please click the box below to let us know you're not a robot.\"}, {'source': {'id': 'reuters', 'name': 'Reuters'}, 'author': 'Jamie McGeever', 'title': 'Morning Bid: China clouds darken market mood - Reuters', 'description': 'A look at the day ahead in Asian markets.', 'url': 'https://www.reuters.com/markets/asia/global-markets-view-asia-graphic-pix-2024-05-19/', 'urlToImage': 'https://www.reuters.com/resizer/v2/5GNIWEOQ6FI2VE6C6YK5C4WHF4.jpg?auth=6a2031c72388c1079e6ce9874c7d4e879acaa8a06fa2facf1dc1d3eb0eb31cc2&height=1005&width=1920&quality=80&smart=true', 'publishedAt': '2024-05-19T21:48:00Z', 'content': None}, {'source': {'id': None, 'name': 'Forbes'}, 'author': 'Ariel Cohen', 'title': 'Texas Is Heading Towards An Avoidable Blackout…Again - Forbes', 'description': 'With seven people killed and close to a million losing power, the recent storms hit Texas hard, showcasing the vulnerabilities of its isolated grid.', 'url': 'https://www.forbes.com/sites/arielcohen/2024/05/19/texas-is-heading-towards-an-avoidable-blackoutagain/', 'urlToImage': 'https://imageio.forbes.com/specials-images/imageserve/664a39655837a726aa1f7cc1/0x0.jpg?format=jpg&height=900&width=1600&fit=bounds', 'publishedAt': '2024-05-19T20:00:52Z', 'content': 'Down power lines are shown in the aftermath of a severe thunderstorm Friday, May 17, 2024, in ... [+] Cypress, Texas, near Houston. Thunderstorms pummeled southeastern Texas on Thursday killing at le… [+4921 chars]'}, {'source': {'id': None, 'name': 'Phys.Org'}, 'author': 'Issam AHMED', 'title': 'Blue Origin flies thrill seekers to space, including oldest astronaut - Phys.org', 'description': \"After a nearly two-year hiatus, Blue Origin flew adventurers to space on Sunday, including a former Air Force pilot who was denied the chance to be the United States' first Black astronaut decades ago.\", 'url': 'https://phys.org/news/2024-05-blue-flies-thrill-seekers-space-1.html', 'urlToImage': 'https://scx2.b-cdn.net/gfx/news/2024/blue-origin-saw-its-fi.jpg', 'publishedAt': '2024-05-19T19:46:22Z', 'content': \"After a nearly two-year hiatus, Blue Origin flew adventurers to space on Sunday, including a former Air Force pilot who was denied the chance to be the United States' first Black astronaut decades ag… [+4262 chars]\"}, {'source': {'id': 'fortune', 'name': 'Fortune'}, 'author': 'Jason Ma', 'title': \"'Copper is the new oil,' and prices could soar 50% as AI, green energy, and military spending boost demand, top commodities analyst says - Fortune\", 'description': '\"But I go back to the 2000s, I was bullish on oil then as I am on copper today.\"', 'url': 'https://fortune.com/2024/05/19/copper-price-outlook-15000-per-ton-crude-oil-ai-green-energy-data-centers/', 'urlToImage': 'https://fortune.com/img-assets/wp-content/uploads/2024/05/GettyImages-1405981940-e1716143428610.jpg?resize=1200,600', 'publishedAt': '2024-05-19T19:39:00Z', 'content': 'Copper is emerging as the next indispensable industrial commodity, mirroring oils rise in earlier decades, a top commodities analyst said.This time around, new forces in the economy, namely the adven… [+2125 chars]'}, {'source': {'id': None, 'name': 'Newsnationnow.com'}, 'author': 'Emily Finn', 'title': 'Questions emerge over China spying on US military bases - NewsNation Now', 'description': 'Chinese nationals tried to enter U.S. military sites more than 100 times last year, often posing as food delivery drivers or tourists, per reports.', 'url': 'https://www.newsnationnow.com/world/china/questions-china-spying-military/', 'urlToImage': 'https://www.newsnationnow.com/wp-content/uploads/sites/108/2024/05/GettyImages-1981391926.jpg?w=1280', 'publishedAt': '2024-05-19T19:34:00Z', 'content': '(NewsNation) The Biden administration issued an order this week to block a Chinese cryptocurrency mining company from owning land near a nuclear missile base in Wyoming, citing national security risk… [+2365 chars]'}, {'source': {'id': None, 'name': 'Federalreserve.gov'}, 'author': None, 'title': 'Remarks by Chair Powell at the Georgetown University Law Center commencement ceremony - Federal Reserve', 'description': 'Thank you, Dean Treanor, for the invitation to speak here today. I am very sorry that circumstances prevent me from joining you in person.  I will start by ack', 'url': 'https://www.federalreserve.gov/newsevents/speech/powell20240519a.htm', 'urlToImage': 'https://www.federalreserve.gov/images/social-media/social-default-image-opengraph.jpg', 'publishedAt': '2024-05-19T19:30:42Z', 'content': 'Accessible Keys for Video\\r\\n[Space Bar] toggles play/pause;\\r\\n[Right/Left Arrows] seeks the video forwards and back (5 sec );\\r\\n[Up/Down Arrows] increase/decrease volume;\\r\\n[M] toggles mute on/off;\\r\\n[F] … [+9871 chars]'}, {'source': {'id': 'associated-press', 'name': 'Associated Press'}, 'author': 'FIRDIA LISNAWATI, NINIEK KARMINI', 'title': \"Elon Musk launches Starlink satellite internet service in Indonesia, world's largest archipelago - The Associated Press\", 'description': 'Elon Musk has traveled to Indonesia’s resort island of Bali to launch Starlink satellite internet service in the world’s largest archipelago nation. Wearing a green Batik shirt, Musk was greeted Sunday with a garland of flower petals at a community health cli…', 'url': 'https://apnews.com/article/indonesia-bali-elon-musk-starlink-internet-service-8444ca8b5da4f4a9973a66f8fd1d3e0f', 'urlToImage': 'https://dims.apnews.com/dims4/default/478bbe4/2147483647/strip/true/crop/4572x2572+0+172/resize/1440x810!/quality/90/?url=https%3A%2F%2Fassets.apnews.com%2F7a%2F2e%2F6fb815c98482b57ccfebfa8f2733%2F6af9a14c7d6d4cfa8b31d5bf80b16099', 'publishedAt': '2024-05-19T18:45:00Z', 'content': 'DENPASAR, Indonesia (AP) Elon Musk traveled to Indonesias resort island of Bali on Sunday to launch Starlink satellite internet service in the worlds largest archipelago nation.\\r\\nWearing a green Bati… [+3662 chars]'}, {'source': {'id': None, 'name': 'Bitcoinist'}, 'author': 'Christian Encila', 'title': 'Crypto Institutions Gobble Up Billions In Bitcoin ETFs, Stockpiling 250,000 BTC - Details - Bitcoinist', 'description': 'The tides are turning in the cryptocurrency world, with institutional investors making a big splash in Bitcoin exchange-traded funds (ETFs) while retail', 'url': 'https://bitcoinist.com/institutions-gobble-up-billions-in-bitcoin-etfs/', 'urlToImage': 'https://bitcoinist.com/wp-content/uploads/2024/05/a_08cadd.jpg', 'publishedAt': '2024-05-19T18:30:00Z', 'content': 'The tides are turning in the cryptocurrency world, with institutional investors making a big splash in Bitcoin exchange-traded funds (ETFs) while retail investors seem content to bob on the sidelines… [+3112 chars]'}, {'source': {'id': None, 'name': 'Ambcrypto.com'}, 'author': 'Dipayan Mitra', 'title': 'PEPE: Profit-taking sparks price fall? Investors in profit reach 92% - AMBCrypto News', 'description': 'Selling pressure on PEPE increased over the last few days, which might have resulted in a price correction.', 'url': 'https://ambcrypto.com/pepe-profit-taking-sparks-price-fall-investors-in-profit-reach-92/', 'urlToImage': 'https://ambcrypto.com/wp-content/uploads/2024/05/PEPE-turns-bearish-1000x600.webp', 'publishedAt': '2024-05-19T18:05:38Z', 'content': '<ul><li>The meme coin was down by more than 6% in the last 24 hours.\\xa0</li><li>Market indicators and metrics hinted at a further price decline.\\xa0</li></ul>Pepe [PEPE] had a major setback on the 18th of… [+2473 chars]'}, {'source': {'id': None, 'name': 'Teslarati'}, 'author': 'Zachary Visconti', 'title': 'Mercedes workers in Alabama vote against UAW membership - TESLARATI', 'description': 'Mercedes workers in Alabama have voted against joining the UAW last week, after the union was successfully voted in at a Volkswagen plant...', 'url': 'https://www.teslarati.com/mercedes-alabama-against-uaw/', 'urlToImage': 'https://www.teslarati.com/wp-content/uploads/2024/02/mercedes-benz-tuscaloosa-alabama-plant-mbusi-1024x576.jpg', 'publishedAt': '2024-05-19T17:08:42Z', 'content': 'Mercedes workers in Alabama have voted against joining the United Automotive Workers (UAW) last week, after the union was successfully voted in at a Volkswagen plant last month.\\r\\nFollowing the vote f… [+2152 chars]'}, {'source': {'id': None, 'name': 'Yahoo Entertainment'}, 'author': 'David Hollerith', 'title': 'The big questions JPMorgan investors have for Jamie Dimon - Yahoo Finance', 'description': \"Attendees at JPMorgan's annual investor day Monday will be listening for answers to some key questions. A top concern is how much longer Jamie Dimon plans to...\", 'url': 'https://finance.yahoo.com/news/the-big-questions-jpmorgan-investors-have-for-jamie-dimon-150129167.html', 'urlToImage': 'https://s.yimg.com/ny/api/res/1.2/8E3g_MvJJAt7wDjUf5r6Tg--/YXBwaWQ9aGlnaGxhbmRlcjt3PTEyMDA7aD04MDA-/https://s.yimg.com/os/creatr-uploaded-images/2024-01/0cf8d610-b64f-11ee-a5fe-82e8abbd789a', 'publishedAt': '2024-05-19T17:00:29Z', 'content': 'Investors are gathering at JPMorgans (JPM) Manhattan campus Monday to hear from CEO Jamie Dimon and his executive team, and they will be listening for answers to some key questions.\\r\\nWho might succee… [+6957 chars]'}, {'source': {'id': 'fortune', 'name': 'Fortune'}, 'author': 'Jeremy Kahn', 'title': \"AI isn't coming for your job—at least not yet - Fortune\", 'description': 'So far, the technology has replaced only a small number of workers. But the future risks many more.', 'url': 'https://fortune.com/2024/05/19/ai-jobs-replacing-workers-learning-to-use-gen-ai-technology-ups-ibm-google/', 'urlToImage': 'https://fortune.com/img-assets/wp-content/uploads/2024/03/JOB0524-ART-vortex.jpg?resize=1200,600', 'publishedAt': '2024-05-19T16:45:00Z', 'content': 'When CEOs talk to investors about layoffs, they usually blame economic uncertainty or business headwinds. Now a new term is starting to crop up in these announcements: AI.In recent months, shipping g… [+6920 chars]'}]\n"
     ]
    }
   ],
   "source": [
    "import requests\n",
    "\n",
    "url = ('https://newsapi.org/v2/top-headlines?country=us&category=business&apiKey=5f52da7203904a0cae3a2282b2b861af')\n",
    "\n",
    "response = requests.get(url)\n",
    "news=response.json()\n",
    "articles=news.get('articles')\n",
    "print(articles)"
   ],
   "metadata": {
    "collapsed": false,
    "ExecuteTime": {
     "end_time": "2024-05-21T05:48:21.826099300Z",
     "start_time": "2024-05-21T05:48:21.211621200Z"
    }
   },
   "id": "8c9048885f8c9de9",
   "execution_count": 20
  },
  {
   "cell_type": "code",
   "outputs": [
    {
     "name": "stdout",
     "output_type": "stream",
     "text": [
      "['$395 pineapple being sold at Southern California produce store - KTLA Los Angeles', 'Stock futures tick higher after Dow closes above 40,000 for the first time: Live updates - CNBC', 'Gold Holds Near Record as Fed Rate-Cut Optimism Fuels Demand - Bloomberg', 'Costco price hike: Popular items see unexpected jumps in cost - Fox Business', \"'It's a Losing Game,' Says Wedbush About GameStop Stock - TipRanks.com - TipRanks\", 'EQT in advanced talks to buy Keywords Studios for $2.8 billion - Reuters', \"AI chip giant Nvidia is about to report first-quarter earnings: Here's what Wall Street expects as growth looks set to cool - Yahoo Finance\", \"China's Housing Rescue Is Too Small to End Crisis, Analysts Say - Bloomberg\", 'Morning Bid: China clouds darken market mood - Reuters', 'Texas Is Heading Towards An Avoidable Blackout…Again - Forbes', 'Blue Origin flies thrill seekers to space, including oldest astronaut - Phys.org', \"'Copper is the new oil,' and prices could soar 50% as AI, green energy, and military spending boost demand, top commodities analyst says - Fortune\", 'Questions emerge over China spying on US military bases - NewsNation Now', 'Remarks by Chair Powell at the Georgetown University Law Center commencement ceremony - Federal Reserve', \"Elon Musk launches Starlink satellite internet service in Indonesia, world's largest archipelago - The Associated Press\", 'Crypto Institutions Gobble Up Billions In Bitcoin ETFs, Stockpiling 250,000 BTC - Details - Bitcoinist', 'PEPE: Profit-taking sparks price fall? Investors in profit reach 92% - AMBCrypto News', 'Mercedes workers in Alabama vote against UAW membership - TESLARATI', 'The big questions JPMorgan investors have for Jamie Dimon - Yahoo Finance', \"AI isn't coming for your job—at least not yet - Fortune\"] ['Families in California pay more for groceries than those in any other state. Now, a single fruit is being sold at a SoCal retailer that costs more than the average of $297.72 per week that households spend on food in the Golden State. The Rubyglow pineapple i…', 'The Dow Jones Industrial Average is coming off of a notable week, having reached an all-time high on Thursday and a close above 40,000 on Friday.', None, \"Costco's multinational chain of membership-only stores have increased some prices, like for olive oil and gas, while its $1.50 hot dog-soda combo is unchanged for the time being.\", 'GameStop (NYSE:GME) stock doesn’t seem to do anything in half measures. Following a long absence, a recent tweet by Roaring Kitty, the person largely responsible fo...', None, \"Analysts see Nvidia's earnings per share soaring 474% to $5.22, with revenue up 241% to $24.5 billion.\", None, 'A look at the day ahead in Asian markets.', 'With seven people killed and close to a million losing power, the recent storms hit Texas hard, showcasing the vulnerabilities of its isolated grid.', \"After a nearly two-year hiatus, Blue Origin flew adventurers to space on Sunday, including a former Air Force pilot who was denied the chance to be the United States' first Black astronaut decades ago.\", '\"But I go back to the 2000s, I was bullish on oil then as I am on copper today.\"', 'Chinese nationals tried to enter U.S. military sites more than 100 times last year, often posing as food delivery drivers or tourists, per reports.', 'Thank you, Dean Treanor, for the invitation to speak here today. I am very sorry that circumstances prevent me from joining you in person.  I will start by ack', 'Elon Musk has traveled to Indonesia’s resort island of Bali to launch Starlink satellite internet service in the world’s largest archipelago nation. Wearing a green Batik shirt, Musk was greeted Sunday with a garland of flower petals at a community health cli…', 'The tides are turning in the cryptocurrency world, with institutional investors making a big splash in Bitcoin exchange-traded funds (ETFs) while retail', 'Selling pressure on PEPE increased over the last few days, which might have resulted in a price correction.', 'Mercedes workers in Alabama have voted against joining the UAW last week, after the union was successfully voted in at a Volkswagen plant...', \"Attendees at JPMorgan's annual investor day Monday will be listening for answers to some key questions. A top concern is how much longer Jamie Dimon plans to...\", 'So far, the technology has replaced only a small number of workers. But the future risks many more.']\n"
     ]
    }
   ],
   "source": [
    "titles,descriptions=[],[]\n",
    "for article in articles:\n",
    "    title = article.get('title')\n",
    "    description = article.get('description')\n",
    "    \n",
    "    titles.append(title)\n",
    "    descriptions.append(description)\n",
    "\n",
    "print(titles,descriptions)\n"
   ],
   "metadata": {
    "collapsed": false,
    "ExecuteTime": {
     "end_time": "2024-05-21T05:48:21.834386200Z",
     "start_time": "2024-05-21T05:48:21.828101400Z"
    }
   },
   "id": "5d16907792c7e612",
   "execution_count": 21
  },
  {
   "cell_type": "code",
   "outputs": [
    {
     "name": "stdout",
     "output_type": "stream",
     "text": [
      "20\n"
     ]
    }
   ],
   "source": [
    "print(len(descriptions))"
   ],
   "metadata": {
    "collapsed": false,
    "ExecuteTime": {
     "end_time": "2024-05-21T05:48:21.904947100Z",
     "start_time": "2024-05-21T05:48:21.835391700Z"
    }
   },
   "id": "2f0ad35b9cedd249",
   "execution_count": 22
  },
  {
   "cell_type": "code",
   "outputs": [
    {
     "name": "stdout",
     "output_type": "stream",
     "text": [
      "[{'label': 'NEGATIVE', 'score': 0.9937585592269897}]\n",
      "[{'label': 'POSITIVE', 'score': 0.8541861772537231}]\n",
      "[{'label': 'NEGATIVE', 'score': 0.9858689308166504}]\n",
      "[{'label': 'NEGATIVE', 'score': 0.9995235204696655}]\n",
      "[{'label': 'POSITIVE', 'score': 0.8900923132896423}]\n",
      "[{'label': 'POSITIVE', 'score': 0.9997016787528992}]\n",
      "[{'label': 'POSITIVE', 'score': 0.9934102892875671}]\n",
      "[{'label': 'POSITIVE', 'score': 0.8304510712623596}]\n",
      "[{'label': 'NEGATIVE', 'score': 0.9929245710372925}]\n",
      "[{'label': 'NEGATIVE', 'score': 0.9948260188102722}]\n",
      "[{'label': 'NEGATIVE', 'score': 0.9937235713005066}]\n",
      "[{'label': 'POSITIVE', 'score': 0.9951830506324768}]\n",
      "[{'label': 'POSITIVE', 'score': 0.9975988268852234}]\n",
      "[{'label': 'NEGATIVE', 'score': 0.9993601441383362}]\n",
      "[{'label': 'NEGATIVE', 'score': 0.9787164330482483}]\n",
      "[{'label': 'NEGATIVE', 'score': 0.633432149887085}]\n",
      "[{'label': 'NEGATIVE', 'score': 0.9964286684989929}]\n"
     ]
    }
   ],
   "source": [
    "desc_sentiment=[]\n",
    "for i in range(len(descriptions)):\n",
    "    try:\n",
    "        data= (descriptions[i])\n",
    "        sentiment = sentiment_pipeline(data)\n",
    "        print(sentiment)\n",
    "        desc_sentiment.append(sentiment)\n",
    "    except Exception as e:\n",
    "        continue"
   ],
   "metadata": {
    "collapsed": false,
    "ExecuteTime": {
     "end_time": "2024-05-21T05:48:22.300635400Z",
     "start_time": "2024-05-21T05:48:21.852786500Z"
    }
   },
   "id": "bc2d078d90fa1cf2",
   "execution_count": 23
  },
  {
   "cell_type": "code",
   "outputs": [
    {
     "name": "stdout",
     "output_type": "stream",
     "text": [
      "[{'label': 'NEGATIVE', 'score': 0.9898042678833008}]\n",
      "[{'label': 'NEGATIVE', 'score': 0.6541661024093628}]\n",
      "[{'label': 'POSITIVE', 'score': 0.6893231272697449}]\n",
      "[{'label': 'POSITIVE', 'score': 0.9989169836044312}]\n",
      "[{'label': 'NEGATIVE', 'score': 0.9993966817855835}]\n",
      "[{'label': 'NEGATIVE', 'score': 0.9854975938796997}]\n",
      "[{'label': 'NEGATIVE', 'score': 0.9747023582458496}]\n",
      "[{'label': 'NEGATIVE', 'score': 0.9989240765571594}]\n",
      "[{'label': 'NEGATIVE', 'score': 0.9984392523765564}]\n",
      "[{'label': 'NEGATIVE', 'score': 0.9959296584129333}]\n",
      "[{'label': 'POSITIVE', 'score': 0.9969080090522766}]\n",
      "[{'label': 'POSITIVE', 'score': 0.5614451169967651}]\n",
      "[{'label': 'NEGATIVE', 'score': 0.8921669721603394}]\n",
      "[{'label': 'POSITIVE', 'score': 0.7703492641448975}]\n",
      "[{'label': 'POSITIVE', 'score': 0.9879361391067505}]\n",
      "[{'label': 'NEGATIVE', 'score': 0.9947612881660461}]\n",
      "[{'label': 'NEGATIVE', 'score': 0.9978506565093994}]\n",
      "[{'label': 'NEGATIVE', 'score': 0.9490887522697449}]\n",
      "[{'label': 'NEGATIVE', 'score': 0.5509711503982544}]\n",
      "[{'label': 'NEGATIVE', 'score': 0.9990158081054688}]\n"
     ]
    }
   ],
   "source": [
    "title_sentiment=[]\n",
    "for i in range(len(titles)):\n",
    "    try:\n",
    "        data= (titles[i])\n",
    "        sentiment = sentiment_pipeline(data)\n",
    "        print(sentiment)\n",
    "        title_sentiment.append(sentiment)\n",
    "    except Exception as e:\n",
    "        continue"
   ],
   "metadata": {
    "collapsed": false,
    "ExecuteTime": {
     "end_time": "2024-05-21T05:48:22.716493100Z",
     "start_time": "2024-05-21T05:48:22.302395100Z"
    }
   },
   "id": "cc886d1533238f82",
   "execution_count": 24
  },
  {
   "cell_type": "code",
   "outputs": [
    {
     "name": "stdout",
     "output_type": "stream",
     "text": [
      "[[{'label': 'NEGATIVE', 'score': 0.9898042678833008}], [{'label': 'NEGATIVE', 'score': 0.6541661024093628}], [{'label': 'POSITIVE', 'score': 0.6893231272697449}], [{'label': 'POSITIVE', 'score': 0.9989169836044312}], [{'label': 'NEGATIVE', 'score': 0.9993966817855835}], [{'label': 'NEGATIVE', 'score': 0.9854975938796997}], [{'label': 'NEGATIVE', 'score': 0.9747023582458496}], [{'label': 'NEGATIVE', 'score': 0.9989240765571594}], [{'label': 'NEGATIVE', 'score': 0.9984392523765564}], [{'label': 'NEGATIVE', 'score': 0.9959296584129333}], [{'label': 'POSITIVE', 'score': 0.9969080090522766}], [{'label': 'POSITIVE', 'score': 0.5614451169967651}], [{'label': 'NEGATIVE', 'score': 0.8921669721603394}], [{'label': 'POSITIVE', 'score': 0.7703492641448975}], [{'label': 'POSITIVE', 'score': 0.9879361391067505}], [{'label': 'NEGATIVE', 'score': 0.9947612881660461}], [{'label': 'NEGATIVE', 'score': 0.9978506565093994}], [{'label': 'NEGATIVE', 'score': 0.9490887522697449}], [{'label': 'NEGATIVE', 'score': 0.5509711503982544}], [{'label': 'NEGATIVE', 'score': 0.9990158081054688}]]\n"
     ]
    }
   ],
   "source": [
    "print(title_sentiment)\n",
    "label,score=[],[]\n",
    "for k in title_sentiment:\n",
    "    l=k[0].get('label')\n",
    "    label.append(l)\n",
    "    s=k[0].get('score')\n",
    "    score.append(s)"
   ],
   "metadata": {
    "collapsed": false,
    "ExecuteTime": {
     "end_time": "2024-05-21T05:48:22.719028500Z",
     "start_time": "2024-05-21T05:48:22.712180300Z"
    }
   },
   "id": "f696809a38ed48f5",
   "execution_count": 25
  },
  {
   "cell_type": "code",
   "outputs": [
    {
     "data": {
      "text/plain": "(['NEGATIVE',\n  'NEGATIVE',\n  'POSITIVE',\n  'POSITIVE',\n  'NEGATIVE',\n  'NEGATIVE',\n  'NEGATIVE',\n  'NEGATIVE',\n  'NEGATIVE',\n  'NEGATIVE',\n  'POSITIVE',\n  'POSITIVE',\n  'NEGATIVE',\n  'POSITIVE',\n  'POSITIVE',\n  'NEGATIVE',\n  'NEGATIVE',\n  'NEGATIVE',\n  'NEGATIVE',\n  'NEGATIVE'],\n [0.9898042678833008,\n  0.6541661024093628,\n  0.6893231272697449,\n  0.9989169836044312,\n  0.9993966817855835,\n  0.9854975938796997,\n  0.9747023582458496,\n  0.9989240765571594,\n  0.9984392523765564,\n  0.9959296584129333,\n  0.9969080090522766,\n  0.5614451169967651,\n  0.8921669721603394,\n  0.7703492641448975,\n  0.9879361391067505,\n  0.9947612881660461,\n  0.9978506565093994,\n  0.9490887522697449,\n  0.5509711503982544,\n  0.9990158081054688])"
     },
     "execution_count": 26,
     "metadata": {},
     "output_type": "execute_result"
    }
   ],
   "source": [
    "label,score"
   ],
   "metadata": {
    "collapsed": false,
    "ExecuteTime": {
     "end_time": "2024-05-21T05:48:22.741526100Z",
     "start_time": "2024-05-21T05:48:22.719028500Z"
    }
   },
   "id": "71fd42ca2f37eeb7",
   "execution_count": 26
  },
  {
   "cell_type": "code",
   "outputs": [],
   "source": [
    "net=0\n",
    "for i in range(len(label)):\n",
    "    \n",
    "    if label[i]=='NEGATIVE':\n",
    "        net = net+ (-1*score[i])\n",
    "    if label[i]=='POSITIVE':\n",
    "        net = net+ (+1*score[i])"
   ],
   "metadata": {
    "collapsed": false,
    "ExecuteTime": {
     "end_time": "2024-05-21T05:48:22.747043600Z",
     "start_time": "2024-05-21T05:48:22.736363100Z"
    }
   },
   "id": "ba3bde5de25e0d57",
   "execution_count": 27
  },
  {
   "cell_type": "code",
   "outputs": [
    {
     "data": {
      "text/plain": "-0.39879179894924166"
     },
     "execution_count": 28,
     "metadata": {},
     "output_type": "execute_result"
    }
   ],
   "source": [
    "net/len(label)"
   ],
   "metadata": {
    "collapsed": false,
    "ExecuteTime": {
     "end_time": "2024-05-21T05:48:22.793946400Z",
     "start_time": "2024-05-21T05:48:22.746045600Z"
    }
   },
   "id": "f9f1fdcf9ab1353e",
   "execution_count": 28
  },
  {
   "cell_type": "code",
   "outputs": [],
   "source": [
    "label,score=[],[]\n",
    "for k in desc_sentiment:\n",
    "    l=k[0].get('label')\n",
    "    label.append(l)\n",
    "    s=k[0].get('score')\n",
    "    score.append(s)"
   ],
   "metadata": {
    "collapsed": false,
    "ExecuteTime": {
     "end_time": "2024-05-21T05:48:22.794946600Z",
     "start_time": "2024-05-21T05:48:22.753123300Z"
    }
   },
   "id": "ab4b5559dc94a624",
   "execution_count": 29
  },
  {
   "cell_type": "code",
   "outputs": [
    {
     "data": {
      "text/plain": "(['NEGATIVE',\n  'POSITIVE',\n  'NEGATIVE',\n  'NEGATIVE',\n  'POSITIVE',\n  'POSITIVE',\n  'POSITIVE',\n  'POSITIVE',\n  'NEGATIVE',\n  'NEGATIVE',\n  'NEGATIVE',\n  'POSITIVE',\n  'POSITIVE',\n  'NEGATIVE',\n  'NEGATIVE',\n  'NEGATIVE',\n  'NEGATIVE'],\n [0.9937585592269897,\n  0.8541861772537231,\n  0.9858689308166504,\n  0.9995235204696655,\n  0.8900923132896423,\n  0.9997016787528992,\n  0.9934102892875671,\n  0.8304510712623596,\n  0.9929245710372925,\n  0.9948260188102722,\n  0.9937235713005066,\n  0.9951830506324768,\n  0.9975988268852234,\n  0.9993601441383362,\n  0.9787164330482483,\n  0.633432149887085,\n  0.9964286684989929])"
     },
     "execution_count": 30,
     "metadata": {},
     "output_type": "execute_result"
    }
   ],
   "source": [
    "label,score"
   ],
   "metadata": {
    "collapsed": false,
    "ExecuteTime": {
     "end_time": "2024-05-21T05:48:22.796946400Z",
     "start_time": "2024-05-21T05:48:22.760323600Z"
    }
   },
   "id": "f0cc167ebd969060",
   "execution_count": 30
  },
  {
   "cell_type": "code",
   "outputs": [],
   "source": [
    "net=0\n",
    "for i in range(len(label)):\n",
    "    \n",
    "    if label[i]=='NEGATIVE':\n",
    "        net = net+ (-1*score[i])\n",
    "    if label[i]=='POSITIVE':\n",
    "        net = net+ (+1*score[i])"
   ],
   "metadata": {
    "collapsed": false,
    "ExecuteTime": {
     "end_time": "2024-05-21T05:48:22.796946400Z",
     "start_time": "2024-05-21T05:48:22.768378500Z"
    }
   },
   "id": "34845f336c041271",
   "execution_count": 31
  },
  {
   "cell_type": "code",
   "outputs": [
    {
     "data": {
      "text/plain": "-0.17693759763942046"
     },
     "execution_count": 32,
     "metadata": {},
     "output_type": "execute_result"
    }
   ],
   "source": [
    "net/len(label)"
   ],
   "metadata": {
    "collapsed": false,
    "ExecuteTime": {
     "end_time": "2024-05-21T05:48:22.840960300Z",
     "start_time": "2024-05-21T05:48:22.776415200Z"
    }
   },
   "id": "787d2e7ed8795653",
   "execution_count": 32
  },
  {
   "cell_type": "code",
   "outputs": [],
   "source": [],
   "metadata": {
    "collapsed": false,
    "ExecuteTime": {
     "end_time": "2024-05-21T05:48:22.840960300Z",
     "start_time": "2024-05-21T05:48:22.785941800Z"
    }
   },
   "id": "a7f77cd733a9d328",
   "execution_count": 32
  }
 ],
 "metadata": {
  "kernelspec": {
   "display_name": "Python 3",
   "language": "python",
   "name": "python3"
  },
  "language_info": {
   "codemirror_mode": {
    "name": "ipython",
    "version": 2
   },
   "file_extension": ".py",
   "mimetype": "text/x-python",
   "name": "python",
   "nbconvert_exporter": "python",
   "pygments_lexer": "ipython2",
   "version": "2.7.6"
  }
 },
 "nbformat": 4,
 "nbformat_minor": 5
}
